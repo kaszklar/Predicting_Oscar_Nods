{
 "cells": [
  {
   "cell_type": "code",
   "execution_count": 2,
   "metadata": {},
   "outputs": [],
   "source": [
    "import pandas as pd\n",
    "import numpy as np\n",
    "import matplotlib.pyplot as plt\n",
    "import seaborn as sns\n",
    "sns.set()\n",
    "\n",
    "%matplotlib inline"
   ]
  },
  {
   "cell_type": "code",
   "execution_count": 3,
   "metadata": {},
   "outputs": [
    {
     "name": "stderr",
     "output_type": "stream",
     "text": [
      "/anaconda3/lib/python3.6/site-packages/statsmodels/compat/pandas.py:56: FutureWarning: The pandas.core.datetools module is deprecated and will be removed in a future version. Please use the pandas.tseries module instead.\n",
      "  from pandas.core import datetools\n"
     ]
    }
   ],
   "source": [
    "from sklearn.linear_model import Lasso, Ridge, ElasticNet, LinearRegression, LassoCV, RidgeCV\n",
    "\n",
    "from sklearn.model_selection import (cross_val_score, train_test_split, \n",
    "                                     KFold, GridSearchCV)\n",
    "\n",
    "import statsmodels.api as sm\n",
    "import statsmodels.formula.api as smf "
   ]
  },
  {
   "cell_type": "code",
   "execution_count": 4,
   "metadata": {},
   "outputs": [],
   "source": [
    "df=pd.read_csv(\"final-data.csv\")"
   ]
  },
  {
   "cell_type": "code",
   "execution_count": 5,
   "metadata": {},
   "outputs": [
    {
     "data": {
      "text/html": [
       "<div>\n",
       "<style scoped>\n",
       "    .dataframe tbody tr th:only-of-type {\n",
       "        vertical-align: middle;\n",
       "    }\n",
       "\n",
       "    .dataframe tbody tr th {\n",
       "        vertical-align: top;\n",
       "    }\n",
       "\n",
       "    .dataframe thead th {\n",
       "        text-align: right;\n",
       "    }\n",
       "</style>\n",
       "<table border=\"1\" class=\"dataframe\">\n",
       "  <thead>\n",
       "    <tr style=\"text-align: right;\">\n",
       "      <th></th>\n",
       "      <th>the_index</th>\n",
       "      <th>Title</th>\n",
       "      <th>DomesticTotalGross</th>\n",
       "      <th>RunTime</th>\n",
       "      <th>ReleaseDate</th>\n",
       "      <th>Director</th>\n",
       "      <th>ProductionBudget</th>\n",
       "      <th>InRelease</th>\n",
       "      <th>Distributor</th>\n",
       "      <th>Genre</th>\n",
       "      <th>...</th>\n",
       "      <th>GenreMap_Horror</th>\n",
       "      <th>GenreMap_Other</th>\n",
       "      <th>GenreMap_Period</th>\n",
       "      <th>GenreMap_Romantic Comedy</th>\n",
       "      <th>GenreMap_Sci-Fi</th>\n",
       "      <th>GenreMap_Western</th>\n",
       "      <th>MpaaRating_G</th>\n",
       "      <th>MpaaRating_PG</th>\n",
       "      <th>MpaaRating_PG-13</th>\n",
       "      <th>MpaaRating_R</th>\n",
       "    </tr>\n",
       "  </thead>\n",
       "  <tbody>\n",
       "    <tr>\n",
       "      <th>0</th>\n",
       "      <td>http://www.boxofficemojo.com/movies/?id=ali.htm</td>\n",
       "      <td>Ali</td>\n",
       "      <td>58203105.0</td>\n",
       "      <td>156.0</td>\n",
       "      <td>2001-12-25</td>\n",
       "      <td>Michael Mann</td>\n",
       "      <td>107000000.0</td>\n",
       "      <td>52</td>\n",
       "      <td>Sony / Columbia</td>\n",
       "      <td>Sports Drama</td>\n",
       "      <td>...</td>\n",
       "      <td>0</td>\n",
       "      <td>0</td>\n",
       "      <td>0</td>\n",
       "      <td>0</td>\n",
       "      <td>0</td>\n",
       "      <td>0</td>\n",
       "      <td>0</td>\n",
       "      <td>0</td>\n",
       "      <td>0</td>\n",
       "      <td>1</td>\n",
       "    </tr>\n",
       "    <tr>\n",
       "      <th>1</th>\n",
       "      <td>http://www.boxofficemojo.com/movies/?id=americ...</td>\n",
       "      <td>America's Sweethearts</td>\n",
       "      <td>93607673.0</td>\n",
       "      <td>102.0</td>\n",
       "      <td>2001-07-20</td>\n",
       "      <td>Joe Roth</td>\n",
       "      <td>46000000.0</td>\n",
       "      <td>101</td>\n",
       "      <td>Sony (Revolution)</td>\n",
       "      <td>Romantic Comedy</td>\n",
       "      <td>...</td>\n",
       "      <td>0</td>\n",
       "      <td>0</td>\n",
       "      <td>0</td>\n",
       "      <td>1</td>\n",
       "      <td>0</td>\n",
       "      <td>0</td>\n",
       "      <td>0</td>\n",
       "      <td>0</td>\n",
       "      <td>1</td>\n",
       "      <td>0</td>\n",
       "    </tr>\n",
       "    <tr>\n",
       "      <th>2</th>\n",
       "      <td>http://www.boxofficemojo.com/movies/?id=anygiv...</td>\n",
       "      <td>Any Given Sunday</td>\n",
       "      <td>75530832.0</td>\n",
       "      <td>157.0</td>\n",
       "      <td>1999-12-22</td>\n",
       "      <td>Oliver Stone</td>\n",
       "      <td>55000000.0</td>\n",
       "      <td>100</td>\n",
       "      <td>Warner Bros.</td>\n",
       "      <td>Sports Drama</td>\n",
       "      <td>...</td>\n",
       "      <td>0</td>\n",
       "      <td>0</td>\n",
       "      <td>0</td>\n",
       "      <td>0</td>\n",
       "      <td>0</td>\n",
       "      <td>0</td>\n",
       "      <td>0</td>\n",
       "      <td>0</td>\n",
       "      <td>0</td>\n",
       "      <td>1</td>\n",
       "    </tr>\n",
       "    <tr>\n",
       "      <th>3</th>\n",
       "      <td>http://www.boxofficemojo.com/movies/?id=babybo...</td>\n",
       "      <td>Baby Boy</td>\n",
       "      <td>28734552.0</td>\n",
       "      <td>129.0</td>\n",
       "      <td>2001-06-27</td>\n",
       "      <td>John Singleton</td>\n",
       "      <td>16000000.0</td>\n",
       "      <td>75</td>\n",
       "      <td>Sony / Columbia</td>\n",
       "      <td>Drama</td>\n",
       "      <td>...</td>\n",
       "      <td>0</td>\n",
       "      <td>0</td>\n",
       "      <td>0</td>\n",
       "      <td>0</td>\n",
       "      <td>0</td>\n",
       "      <td>0</td>\n",
       "      <td>0</td>\n",
       "      <td>0</td>\n",
       "      <td>0</td>\n",
       "      <td>1</td>\n",
       "    </tr>\n",
       "    <tr>\n",
       "      <th>4</th>\n",
       "      <td>http://www.boxofficemojo.com/movies/?id=bicent...</td>\n",
       "      <td>Bicentennial Man</td>\n",
       "      <td>58223861.0</td>\n",
       "      <td>131.0</td>\n",
       "      <td>1999-12-17</td>\n",
       "      <td>Chris Columbus</td>\n",
       "      <td>100000000.0</td>\n",
       "      <td>168</td>\n",
       "      <td>Buena Vista</td>\n",
       "      <td>Sci-Fi</td>\n",
       "      <td>...</td>\n",
       "      <td>0</td>\n",
       "      <td>0</td>\n",
       "      <td>0</td>\n",
       "      <td>0</td>\n",
       "      <td>1</td>\n",
       "      <td>0</td>\n",
       "      <td>0</td>\n",
       "      <td>1</td>\n",
       "      <td>0</td>\n",
       "      <td>0</td>\n",
       "    </tr>\n",
       "  </tbody>\n",
       "</table>\n",
       "<p>5 rows × 36 columns</p>\n",
       "</div>"
      ],
      "text/plain": [
       "                                           the_index                  Title  \\\n",
       "0    http://www.boxofficemojo.com/movies/?id=ali.htm                    Ali   \n",
       "1  http://www.boxofficemojo.com/movies/?id=americ...  America's Sweethearts   \n",
       "2  http://www.boxofficemojo.com/movies/?id=anygiv...       Any Given Sunday   \n",
       "3  http://www.boxofficemojo.com/movies/?id=babybo...               Baby Boy   \n",
       "4  http://www.boxofficemojo.com/movies/?id=bicent...       Bicentennial Man   \n",
       "\n",
       "   DomesticTotalGross  RunTime ReleaseDate        Director  ProductionBudget  \\\n",
       "0          58203105.0    156.0  2001-12-25    Michael Mann       107000000.0   \n",
       "1          93607673.0    102.0  2001-07-20        Joe Roth        46000000.0   \n",
       "2          75530832.0    157.0  1999-12-22    Oliver Stone        55000000.0   \n",
       "3          28734552.0    129.0  2001-06-27  John Singleton        16000000.0   \n",
       "4          58223861.0    131.0  1999-12-17  Chris Columbus       100000000.0   \n",
       "\n",
       "   InRelease        Distributor            Genre      ...       \\\n",
       "0         52    Sony / Columbia     Sports Drama      ...        \n",
       "1        101  Sony (Revolution)  Romantic Comedy      ...        \n",
       "2        100       Warner Bros.     Sports Drama      ...        \n",
       "3         75    Sony / Columbia            Drama      ...        \n",
       "4        168        Buena Vista           Sci-Fi      ...        \n",
       "\n",
       "   GenreMap_Horror  GenreMap_Other  GenreMap_Period  GenreMap_Romantic Comedy  \\\n",
       "0                0               0                0                         0   \n",
       "1                0               0                0                         1   \n",
       "2                0               0                0                         0   \n",
       "3                0               0                0                         0   \n",
       "4                0               0                0                         0   \n",
       "\n",
       "   GenreMap_Sci-Fi  GenreMap_Western  MpaaRating_G  MpaaRating_PG  \\\n",
       "0                0                 0             0              0   \n",
       "1                0                 0             0              0   \n",
       "2                0                 0             0              0   \n",
       "3                0                 0             0              0   \n",
       "4                1                 0             0              1   \n",
       "\n",
       "   MpaaRating_PG-13  MpaaRating_R  \n",
       "0                 0             1  \n",
       "1                 1             0  \n",
       "2                 0             1  \n",
       "3                 0             1  \n",
       "4                 0             0  \n",
       "\n",
       "[5 rows x 36 columns]"
      ]
     },
     "execution_count": 5,
     "metadata": {},
     "output_type": "execute_result"
    }
   ],
   "source": [
    "df.head()"
   ]
  },
  {
   "cell_type": "code",
   "execution_count": 6,
   "metadata": {},
   "outputs": [],
   "source": [
    "df=df.set_index('the_index')"
   ]
  },
  {
   "cell_type": "code",
   "execution_count": 7,
   "metadata": {},
   "outputs": [
    {
     "data": {
      "text/plain": [
       "Index(['Title', 'DomesticTotalGross', 'RunTime', 'ReleaseDate', 'Director',\n",
       "       'ProductionBudget', 'InRelease', 'Distributor', 'Genre', 'Nominations',\n",
       "       'Wins', 'IntDayOfTheYear', 'IntMonthOfTheYear', 'DayOfTheYear^2',\n",
       "       'OpeningGross', 'OpeningRank', 'OpeningRatio', 'GenreMap_Action',\n",
       "       'GenreMap_Animation', 'GenreMap_Comedy', 'GenreMap_Crime',\n",
       "       'GenreMap_Documentary', 'GenreMap_Drama', 'GenreMap_Family',\n",
       "       'GenreMap_Fantasy', 'GenreMap_Horror', 'GenreMap_Other',\n",
       "       'GenreMap_Period', 'GenreMap_Romantic Comedy', 'GenreMap_Sci-Fi',\n",
       "       'GenreMap_Western', 'MpaaRating_G', 'MpaaRating_PG', 'MpaaRating_PG-13',\n",
       "       'MpaaRating_R'],\n",
       "      dtype='object')"
      ]
     },
     "execution_count": 7,
     "metadata": {},
     "output_type": "execute_result"
    }
   ],
   "source": [
    "df.columns"
   ]
  },
  {
   "cell_type": "code",
   "execution_count": 8,
   "metadata": {},
   "outputs": [],
   "source": [
    "# define features and target\n",
    "# 10% hold out data"
   ]
  },
  {
   "cell_type": "code",
   "execution_count": 9,
   "metadata": {},
   "outputs": [
    {
     "ename": "AttributeError",
     "evalue": "'DataFrame' object has no attribute 'GenreMap'",
     "output_type": "error",
     "traceback": [
      "\u001b[0;31m---------------------------------------------------------------------------\u001b[0m",
      "\u001b[0;31mAttributeError\u001b[0m                            Traceback (most recent call last)",
      "\u001b[0;32m<ipython-input-9-cc4eeae3b84d>\u001b[0m in \u001b[0;36m<module>\u001b[0;34m()\u001b[0m\n\u001b[0;32m----> 1\u001b[0;31m \u001b[0mdf\u001b[0m\u001b[0;34m[\u001b[0m\u001b[0;34m(\u001b[0m\u001b[0mdf\u001b[0m\u001b[0;34m.\u001b[0m\u001b[0mOpeningGross\u001b[0m\u001b[0;34m>\u001b[0m\u001b[0;36m20000000\u001b[0m\u001b[0;34m)\u001b[0m \u001b[0;34m&\u001b[0m \u001b[0;34m(\u001b[0m\u001b[0mdf\u001b[0m\u001b[0;34m.\u001b[0m\u001b[0mOpeningRatio\u001b[0m\u001b[0;34m<\u001b[0m\u001b[0;36m20\u001b[0m\u001b[0;34m)\u001b[0m \u001b[0;34m&\u001b[0m \u001b[0;34m(\u001b[0m\u001b[0mdf\u001b[0m\u001b[0;34m.\u001b[0m\u001b[0mGenreMap\u001b[0m\u001b[0;34m!=\u001b[0m\u001b[0;34m'Comedy'\u001b[0m\u001b[0;34m)\u001b[0m\u001b[0;34m]\u001b[0m\u001b[0;34m\u001b[0m\u001b[0m\n\u001b[0m\u001b[1;32m      2\u001b[0m \u001b[0;31m#use this for feature selection in our case right now\u001b[0m\u001b[0;34m\u001b[0m\u001b[0;34m\u001b[0m\u001b[0m\n",
      "\u001b[0;32m/anaconda3/lib/python3.6/site-packages/pandas/core/generic.py\u001b[0m in \u001b[0;36m__getattr__\u001b[0;34m(self, name)\u001b[0m\n\u001b[1;32m   3612\u001b[0m             \u001b[0;32mif\u001b[0m \u001b[0mname\u001b[0m \u001b[0;32min\u001b[0m \u001b[0mself\u001b[0m\u001b[0;34m.\u001b[0m\u001b[0m_info_axis\u001b[0m\u001b[0;34m:\u001b[0m\u001b[0;34m\u001b[0m\u001b[0m\n\u001b[1;32m   3613\u001b[0m                 \u001b[0;32mreturn\u001b[0m \u001b[0mself\u001b[0m\u001b[0;34m[\u001b[0m\u001b[0mname\u001b[0m\u001b[0;34m]\u001b[0m\u001b[0;34m\u001b[0m\u001b[0m\n\u001b[0;32m-> 3614\u001b[0;31m             \u001b[0;32mreturn\u001b[0m \u001b[0mobject\u001b[0m\u001b[0;34m.\u001b[0m\u001b[0m__getattribute__\u001b[0m\u001b[0;34m(\u001b[0m\u001b[0mself\u001b[0m\u001b[0;34m,\u001b[0m \u001b[0mname\u001b[0m\u001b[0;34m)\u001b[0m\u001b[0;34m\u001b[0m\u001b[0m\n\u001b[0m\u001b[1;32m   3615\u001b[0m \u001b[0;34m\u001b[0m\u001b[0m\n\u001b[1;32m   3616\u001b[0m     \u001b[0;32mdef\u001b[0m \u001b[0m__setattr__\u001b[0m\u001b[0;34m(\u001b[0m\u001b[0mself\u001b[0m\u001b[0;34m,\u001b[0m \u001b[0mname\u001b[0m\u001b[0;34m,\u001b[0m \u001b[0mvalue\u001b[0m\u001b[0;34m)\u001b[0m\u001b[0;34m:\u001b[0m\u001b[0;34m\u001b[0m\u001b[0m\n",
      "\u001b[0;31mAttributeError\u001b[0m: 'DataFrame' object has no attribute 'GenreMap'"
     ]
    }
   ],
   "source": [
    "df[(df.OpeningGross>20000000) & (df.OpeningRatio<20) & (df.GenreMap!='Comedy')]\n",
    "#use this for feature selection in our case right now"
   ]
  },
  {
   "cell_type": "code",
   "execution_count": 10,
   "metadata": {},
   "outputs": [],
   "source": [
    "features, target = ['DomesticTotalGross','RunTime','ProductionBudget','InRelease','OpeningRatio','OpeningGross'], 'Nominations'\n",
    "#features, target = ['InRelease'], 'Nominations'\n",
    "X, y = df[features], df[target].tolist()\n",
    "X_train, X_holdout, y_train, y_holdout = train_test_split(df[features], df[target], test_size=0.3)"
   ]
  },
  {
   "cell_type": "code",
   "execution_count": 11,
   "metadata": {},
   "outputs": [
    {
     "name": "stdout",
     "output_type": "stream",
     "text": [
      "0.3097445771908238\n"
     ]
    },
    {
     "data": {
      "text/plain": [
       "0.4403500453258917"
      ]
     },
     "execution_count": 11,
     "metadata": {},
     "output_type": "execute_result"
    }
   ],
   "source": [
    "m = LinearRegression()\n",
    "m.fit(X_train,y_train)\n",
    "print(m.score(X_train,y_train))\n",
    "m.score(X_holdout,y_holdout)\n",
    "#test score is consistently less than the train -> overfitting -> lasso\n",
    "# tend alternate -> outliers\n",
    "# outliers result based on situation"
   ]
  },
  {
   "cell_type": "code",
   "execution_count": 108,
   "metadata": {},
   "outputs": [
    {
     "data": {
      "text/plain": [
       "array([ 1.51681183e-08,  2.50362675e-02,  8.17298085e-10,  1.13992247e-02,\n",
       "        1.71270823e-02, -4.93346187e-08])"
      ]
     },
     "execution_count": 108,
     "metadata": {},
     "output_type": "execute_result"
    }
   ],
   "source": [
    "m.coef_"
   ]
  },
  {
   "cell_type": "code",
   "execution_count": 64,
   "metadata": {},
   "outputs": [
    {
     "data": {
      "text/html": [
       "<table class=\"simpletable\">\n",
       "<caption>OLS Regression Results</caption>\n",
       "<tr>\n",
       "  <th>Dep. Variable:</th>       <td>Nominations</td>   <th>  R-squared:         </th> <td>   0.356</td>\n",
       "</tr>\n",
       "<tr>\n",
       "  <th>Model:</th>                   <td>OLS</td>       <th>  Adj. R-squared:    </th> <td>   0.353</td>\n",
       "</tr>\n",
       "<tr>\n",
       "  <th>Method:</th>             <td>Least Squares</td>  <th>  F-statistic:       </th> <td>   99.01</td>\n",
       "</tr>\n",
       "<tr>\n",
       "  <th>Date:</th>             <td>Thu, 19 Jul 2018</td> <th>  Prob (F-statistic):</th> <td>3.86e-99</td>\n",
       "</tr>\n",
       "<tr>\n",
       "  <th>Time:</th>                 <td>14:28:08</td>     <th>  Log-Likelihood:    </th> <td> -1806.8</td>\n",
       "</tr>\n",
       "<tr>\n",
       "  <th>No. Observations:</th>      <td>  1080</td>      <th>  AIC:               </th> <td>   3626.</td>\n",
       "</tr>\n",
       "<tr>\n",
       "  <th>Df Residuals:</th>          <td>  1074</td>      <th>  BIC:               </th> <td>   3656.</td>\n",
       "</tr>\n",
       "<tr>\n",
       "  <th>Df Model:</th>              <td>     6</td>      <th>                     </th>     <td> </td>   \n",
       "</tr>\n",
       "<tr>\n",
       "  <th>Covariance Type:</th>      <td>nonrobust</td>    <th>                     </th>     <td> </td>   \n",
       "</tr>\n",
       "</table>\n",
       "<table class=\"simpletable\">\n",
       "<tr>\n",
       "           <td></td>             <th>coef</th>     <th>std err</th>      <th>t</th>      <th>P>|t|</th>  <th>[0.025</th>    <th>0.975]</th>  \n",
       "</tr>\n",
       "<tr>\n",
       "  <th>DomesticTotalGross</th> <td> 1.218e-08</td> <td> 1.46e-09</td> <td>    8.327</td> <td> 0.000</td> <td> 9.31e-09</td> <td> 1.51e-08</td>\n",
       "</tr>\n",
       "<tr>\n",
       "  <th>RunTime</th>            <td>    0.0102</td> <td>    0.002</td> <td>    5.952</td> <td> 0.000</td> <td>    0.007</td> <td>    0.014</td>\n",
       "</tr>\n",
       "<tr>\n",
       "  <th>ProductionBudget</th>   <td> 1.171e-09</td> <td> 9.91e-10</td> <td>    1.182</td> <td> 0.238</td> <td>-7.73e-10</td> <td> 3.11e-09</td>\n",
       "</tr>\n",
       "<tr>\n",
       "  <th>InRelease</th>          <td>    0.0017</td> <td>    0.001</td> <td>    1.431</td> <td> 0.153</td> <td>   -0.001</td> <td>    0.004</td>\n",
       "</tr>\n",
       "<tr>\n",
       "  <th>OpeningRatio</th>       <td>   -0.0314</td> <td>    0.004</td> <td>   -7.315</td> <td> 0.000</td> <td>   -0.040</td> <td>   -0.023</td>\n",
       "</tr>\n",
       "<tr>\n",
       "  <th>OpeningGross</th>       <td>-3.184e-08</td> <td> 4.44e-09</td> <td>   -7.174</td> <td> 0.000</td> <td>-4.06e-08</td> <td>-2.31e-08</td>\n",
       "</tr>\n",
       "</table>\n",
       "<table class=\"simpletable\">\n",
       "<tr>\n",
       "  <th>Omnibus:</th>       <td>904.411</td> <th>  Durbin-Watson:     </th> <td>   1.940</td> \n",
       "</tr>\n",
       "<tr>\n",
       "  <th>Prob(Omnibus):</th> <td> 0.000</td>  <th>  Jarque-Bera (JB):  </th> <td>23802.340</td>\n",
       "</tr>\n",
       "<tr>\n",
       "  <th>Skew:</th>          <td> 3.771</td>  <th>  Prob(JB):          </th> <td>    0.00</td> \n",
       "</tr>\n",
       "<tr>\n",
       "  <th>Kurtosis:</th>      <td>24.727</td>  <th>  Cond. No.          </th> <td>1.75e+07</td> \n",
       "</tr>\n",
       "</table>"
      ],
      "text/plain": [
       "<class 'statsmodels.iolib.summary.Summary'>\n",
       "\"\"\"\n",
       "                            OLS Regression Results                            \n",
       "==============================================================================\n",
       "Dep. Variable:            Nominations   R-squared:                       0.356\n",
       "Model:                            OLS   Adj. R-squared:                  0.353\n",
       "Method:                 Least Squares   F-statistic:                     99.01\n",
       "Date:                Thu, 19 Jul 2018   Prob (F-statistic):           3.86e-99\n",
       "Time:                        14:28:08   Log-Likelihood:                -1806.8\n",
       "No. Observations:                1080   AIC:                             3626.\n",
       "Df Residuals:                    1074   BIC:                             3656.\n",
       "Df Model:                           6                                         \n",
       "Covariance Type:            nonrobust                                         \n",
       "======================================================================================\n",
       "                         coef    std err          t      P>|t|      [0.025      0.975]\n",
       "--------------------------------------------------------------------------------------\n",
       "DomesticTotalGross  1.218e-08   1.46e-09      8.327      0.000    9.31e-09    1.51e-08\n",
       "RunTime                0.0102      0.002      5.952      0.000       0.007       0.014\n",
       "ProductionBudget    1.171e-09   9.91e-10      1.182      0.238   -7.73e-10    3.11e-09\n",
       "InRelease              0.0017      0.001      1.431      0.153      -0.001       0.004\n",
       "OpeningRatio          -0.0314      0.004     -7.315      0.000      -0.040      -0.023\n",
       "OpeningGross       -3.184e-08   4.44e-09     -7.174      0.000   -4.06e-08   -2.31e-08\n",
       "==============================================================================\n",
       "Omnibus:                      904.411   Durbin-Watson:                   1.940\n",
       "Prob(Omnibus):                  0.000   Jarque-Bera (JB):            23802.340\n",
       "Skew:                           3.771   Prob(JB):                         0.00\n",
       "Kurtosis:                      24.727   Cond. No.                     1.75e+07\n",
       "==============================================================================\n",
       "\n",
       "Warnings:\n",
       "[1] Standard Errors assume that the covariance matrix of the errors is correctly specified.\n",
       "[2] The condition number is large, 1.75e+07. This might indicate that there are\n",
       "strong multicollinearity or other numerical problems.\n",
       "\"\"\""
      ]
     },
     "execution_count": 64,
     "metadata": {},
     "output_type": "execute_result"
    }
   ],
   "source": [
    "model = sm.OLS(y_train.astype(float),X_train.astype(float))\n",
    "results = model.fit()\n",
    "\n",
    "results.summary()"
   ]
  },
  {
   "cell_type": "markdown",
   "metadata": {},
   "source": [
    "#### the bad\n",
    "* still highly likely multi colinearity ( opening gross & total domestic gross)\n",
    "* r*2 of .356 ... increase from .335 after selecting features with low P>|t|\n",
    "\n",
    "#### the sorta good\n",
    "* the P>|t| vals are worse, particularly for run time( 0 to .65), inrelease, int day of year(.3 to .5)\n",
    "* prod budget still .01, opening gross and domestic gross still 0"
   ]
  },
  {
   "cell_type": "code",
   "execution_count": 49,
   "metadata": {},
   "outputs": [
    {
     "name": "stderr",
     "output_type": "stream",
     "text": [
      "/anaconda3/lib/python3.6/site-packages/matplotlib/axes/_axes.py:6448: UserWarning: The 'normed' kwarg is deprecated, and has been replaced by the 'density' kwarg.\n",
      "  warnings.warn(\"The 'normed' kwarg is deprecated, and has been \"\n"
     ]
    },
    {
     "data": {
      "text/plain": [
       "<matplotlib.axes._subplots.AxesSubplot at 0x1c317729e8>"
      ]
     },
     "execution_count": 49,
     "metadata": {},
     "output_type": "execute_result"
    },
    {
     "data": {
      "image/png": "[encoded data removed]",
      "text/plain": [
       "<Figure size 432x288 with 1 Axes>"
      ]
     },
     "metadata": {},
     "output_type": "display_data"
    }
   ],
   "source": [
    "sns.distplot(y_train)"
   ]
  },
  {
   "cell_type": "markdown",
   "metadata": {},
   "source": [
    "* highly skewed distribution to the right - probs gonna need to log"
   ]
  },
  {
   "cell_type": "code",
   "execution_count": 12,
   "metadata": {},
   "outputs": [],
   "source": [
    "### rando first model"
   ]
  },
  {
   "cell_type": "code",
   "execution_count": 47,
   "metadata": {},
   "outputs": [],
   "source": [
    "# split x_train into 5 folds for cross val\n",
    "\n",
    "kfold = KFold(n_splits=5, shuffle=True, random_state=0)"
   ]
  },
  {
   "cell_type": "code",
   "execution_count": 48,
   "metadata": {},
   "outputs": [
    {
     "name": "stdout",
     "output_type": "stream",
     "text": [
      "[0.33386001 0.30083052 0.2919044  0.37394714 0.38781901]\n",
      "Linear Reg Mean Score:  0.3376722166206605\n"
     ]
    },
    {
     "data": {
      "text/plain": [
       "LinearRegression(copy_X=True, fit_intercept=True, n_jobs=1, normalize=False)"
      ]
     },
     "execution_count": 48,
     "metadata": {},
     "output_type": "execute_result"
    }
   ],
   "source": [
    "lm1=LinearRegression()\n",
    "\n",
    "scores = cross_val_score(lm1, X_train, y_train, cv=kfold)\n",
    "print(scores)\n",
    "print(\"Linear Reg Mean Score: \", np.mean(scores))\n",
    "\n",
    "lm1.fit(X_train, y_train)"
   ]
  },
  {
   "cell_type": "code",
   "execution_count": 49,
   "metadata": {},
   "outputs": [
    {
     "data": {
      "text/plain": [
       "[<matplotlib.lines.Line2D at 0x1c300734e0>]"
      ]
     },
     "execution_count": 49,
     "metadata": {},
     "output_type": "execute_result"
    },
    {
     "data": {
      "image/png": "[encoded data removed]",
      "text/plain": [
       "<Figure size 432x288 with 1 Axes>"
      ]
     },
     "metadata": {},
     "output_type": "display_data"
    }
   ],
   "source": [
    "# Fitted vs. Actual\n",
    "y_train_pred = lm1.predict(X_train)\n",
    "\n",
    "plt.scatter(y_train, y_train_pred, alpha=0.2)\n",
    "plt.plot([0, 15], [0, 15])"
   ]
  },
  {
   "cell_type": "code",
   "execution_count": 50,
   "metadata": {},
   "outputs": [
    {
     "data": {
      "text/plain": [
       "Text(0.5,1,'Actual vs. Residuals')"
      ]
     },
     "execution_count": 50,
     "metadata": {},
     "output_type": "execute_result"
    },
    {
     "data": {
      "image/png": "[encoded data removed]",
      "text/plain": [
       "<Figure size 432x288 with 1 Axes>"
      ]
     },
     "metadata": {},
     "output_type": "display_data"
    }
   ],
   "source": [
    "# Plot Residuals\n",
    "\n",
    "lin_reg_residuals = y_train - y_train_pred\n",
    "\n",
    "plt.scatter(y_train, lin_reg_residuals)\n",
    "plt.plot([0,15], [0, 0])\n",
    "plt.title(\"Actual vs. Residuals\")"
   ]
  },
  {
   "cell_type": "markdown",
   "metadata": {},
   "source": [
    "* linear residuals is not a great thing. Model is under fitting for outliers?\n",
    "* Bias"
   ]
  },
  {
   "cell_type": "code",
   "execution_count": null,
   "metadata": {},
   "outputs": [],
   "source": []
  },
  {
   "cell_type": "code",
   "execution_count": null,
   "metadata": {},
   "outputs": [],
   "source": []
  },
  {
   "cell_type": "code",
   "execution_count": null,
   "metadata": {},
   "outputs": [],
   "source": []
  },
  {
   "cell_type": "markdown",
   "metadata": {},
   "source": [
    "### ridge cross val"
   ]
  },
  {
   "cell_type": "code",
   "execution_count": 51,
   "metadata": {},
   "outputs": [
    {
     "name": "stdout",
     "output_type": "stream",
     "text": [
      "[0.33386094 0.3008306  0.29190464 0.37394721 0.38781846]\n",
      "Ridge Model Score:  0.3376723678308621\n"
     ]
    },
    {
     "data": {
      "text/plain": [
       "Ridge(alpha=1.0, copy_X=True, fit_intercept=True, max_iter=None,\n",
       "   normalize=False, random_state=None, solver='auto', tol=0.001)"
      ]
     },
     "execution_count": 51,
     "metadata": {},
     "output_type": "execute_result"
    }
   ],
   "source": [
    "ridge_model1=Ridge()\n",
    "\n",
    "ridge_scores = cross_val_score(ridge_model1, X_train, y_train, cv=kfold)\n",
    "print(ridge_scores)\n",
    "print(\"Ridge Model Score: \", np.mean(ridge_scores))\n",
    "\n",
    "ridge_model1.fit(X_train, y_train)"
   ]
  },
  {
   "cell_type": "code",
   "execution_count": 52,
   "metadata": {},
   "outputs": [
    {
     "data": {
      "text/plain": [
       "[<matplotlib.lines.Line2D at 0x1c30548198>]"
      ]
     },
     "execution_count": 52,
     "metadata": {},
     "output_type": "execute_result"
    },
    {
     "data": {
      "image/png": "[encoded data removed]",
      "text/plain": [
       "<Figure size 432x288 with 1 Axes>"
      ]
     },
     "metadata": {},
     "output_type": "display_data"
    }
   ],
   "source": [
    "# Fitted vs. Actual\n",
    "y_train_pred = ridge_model1.predict(X_train)\n",
    "\n",
    "plt.scatter(y_train, y_train_pred, alpha=0.2)\n",
    "plt.plot([0, 15], [0, 15])"
   ]
  },
  {
   "cell_type": "code",
   "execution_count": null,
   "metadata": {},
   "outputs": [],
   "source": []
  },
  {
   "cell_type": "code",
   "execution_count": null,
   "metadata": {},
   "outputs": [],
   "source": []
  },
  {
   "cell_type": "code",
   "execution_count": null,
   "metadata": {},
   "outputs": [],
   "source": []
  },
  {
   "cell_type": "code",
   "execution_count": null,
   "metadata": {},
   "outputs": [],
   "source": []
  },
  {
   "cell_type": "code",
   "execution_count": null,
   "metadata": {},
   "outputs": [],
   "source": []
  },
  {
   "cell_type": "markdown",
   "metadata": {},
   "source": [
    "### Lasso cross val"
   ]
  },
  {
   "cell_type": "code",
   "execution_count": 53,
   "metadata": {},
   "outputs": [
    {
     "name": "stdout",
     "output_type": "stream",
     "text": [
      "[0.35246406 0.29624558 0.29305785 0.37387187 0.3580473 ]\n",
      "Lasso Model Score:  0.3347373349204764\n"
     ]
    },
    {
     "data": {
      "text/plain": [
       "Lasso(alpha=1.0, copy_X=True, fit_intercept=True, max_iter=1000,\n",
       "   normalize=False, positive=False, precompute=False, random_state=None,\n",
       "   selection='cyclic', tol=0.0001, warm_start=False)"
      ]
     },
     "execution_count": 53,
     "metadata": {},
     "output_type": "execute_result"
    }
   ],
   "source": [
    "lasso_model1=Lasso()\n",
    "\n",
    "lasso_scores = cross_val_score(lasso_model1, X_train, y_train, cv=kfold)\n",
    "print(lasso_scores)\n",
    "print(\"Lasso Model Score: \", np.mean(lasso_scores))\n",
    "\n",
    "lasso_model1.fit(X_train, y_train)"
   ]
  },
  {
   "cell_type": "code",
   "execution_count": 54,
   "metadata": {},
   "outputs": [
    {
     "data": {
      "text/plain": [
       "[<matplotlib.lines.Line2D at 0x1c30c8f470>]"
      ]
     },
     "execution_count": 54,
     "metadata": {},
     "output_type": "execute_result"
    },
    {
     "data": {
      "image/png": "[encoded data removed]",
      "text/plain": [
       "<Figure size 432x288 with 1 Axes>"
      ]
     },
     "metadata": {},
     "output_type": "display_data"
    }
   ],
   "source": [
    "# Fitted vs. Actual\n",
    "y_train_pred = lasso_model1.predict(X_train)\n",
    "\n",
    "plt.scatter(y_train, y_train_pred, alpha=0.2)\n",
    "plt.plot([0, 15], [0, 15])"
   ]
  },
  {
   "cell_type": "code",
   "execution_count": null,
   "metadata": {},
   "outputs": [],
   "source": []
  }
 ],
 "metadata": {
  "kernelspec": {
   "display_name": "Python 3",
   "language": "python",
   "name": "python3"
  },
  "language_info": {
   "codemirror_mode": {
    "name": "ipython",
    "version": 3
   },
   "file_extension": ".py",
   "mimetype": "text/x-python",
   "name": "python",
   "nbconvert_exporter": "python",
   "pygments_lexer": "ipython3",
   "version": "3.6.4"
  }
 },
 "nbformat": 4,
 "nbformat_minor": 2
}
