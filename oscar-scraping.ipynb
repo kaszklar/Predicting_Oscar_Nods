{
 "cells": [
  {
   "cell_type": "code",
   "execution_count": 1,
   "metadata": {},
   "outputs": [],
   "source": [
    "import requests\n",
    "import re\n",
    "from bs4 import BeautifulSoup\n",
    "import dateutil.parser\n",
    "from pprint import pprint\n",
    "import numpy as np\n",
    "import pandas as pd"
   ]
  },
  {
   "cell_type": "code",
   "execution_count": 2,
   "metadata": {},
   "outputs": [],
   "source": [
    "def urlToSoup(url):\n",
    "    '''Take an http request and return a soup object'''\n",
    "    response = requests.get(url)\n",
    "    return BeautifulSoup(response.text, 'lxml')\n",
    "\n",
    "def formatLinks(listolinks):\n",
    "    '''Reformat links scraped from box office mojo'''\n",
    "    links=[]\n",
    "    for link in listolinks:\n",
    "        full_link = 'http://www.boxofficemojo.com'+link.get('href')\n",
    "        links.append(full_link)\n",
    "    return links\n",
    "\n",
    "def getTopThreeHundreds(url):\n",
    "    top_hundreds = urlToSoup(url).find('center').find_all('a', href=re.compile('^/yearly/chart/'))\n",
    "    top_three = formatLinks(top_hundreds) \n",
    "    return top_three[:2]  \n",
    "\n",
    "def getMovieLinks(spec_years):\n",
    "    '''generate links to top three hundred movies per year'''\n",
    "    year_urls = []\n",
    "    for year in spec_years:\n",
    "        top_hundred_url = 'http://www.boxofficemojo.com/yearly/chart/?yr='+str(year)+'&p=.htm'\n",
    "        year_urls.append(top_hundred_url)\n",
    "        year_urls += getTopThreeHundreds(top_hundred_url)\n",
    "        \n",
    "    links_to_movies = []\n",
    "    for url in year_urls:\n",
    "        links_to_movies += urlToSoup(url).find(id='body').find_all('a', href=re.compile('^/movies/\\?id'))\n",
    "    \n",
    "    links = formatLinks(links_to_movies)\n",
    "    return links"
   ]
  },
  {
   "cell_type": "code",
   "execution_count": 3,
   "metadata": {},
   "outputs": [],
   "source": [
    "#\n",
    "#   SCRAPE LINKS TO TOP THREE HUNDRED MOVIES PER YEAR in 'YEARS'\n",
    "#\n",
    "years=[]\n",
    "for i in range(1980,2018):\n",
    "    years.append(i)\n",
    "alllinks=getMovieLinks(years)"
   ]
  },
  {
   "cell_type": "code",
   "execution_count": 4,
   "metadata": {},
   "outputs": [
    {
     "data": {
      "text/plain": [
       "9915"
      ]
     },
     "execution_count": 4,
     "metadata": {},
     "output_type": "execute_result"
    }
   ],
   "source": []
  },
  {
   "cell_type": "code",
   "execution_count": 6,
   "metadata": {},
   "outputs": [
    {
     "data": {
      "text/plain": [
       "9915"
      ]
     },
     "execution_count": 6,
     "metadata": {},
     "output_type": "execute_result"
    }
   ],
   "source": []
  },
  {
   "cell_type": "code",
   "execution_count": 22,
   "metadata": {},
   "outputs": [],
   "source": [
    "def get_movie_value(soup, field_name):\n",
    "    '''Grab a value from boxofficemojo HTML\n",
    "    \n",
    "    Takes a string attribute of a movie on the page and\n",
    "    returns the string in the next sibling object\n",
    "    (the value for that attribute)\n",
    "    or None if nothing is found.\n",
    "    '''\n",
    "    obj = soup.find(text=re.compile(field_name))\n",
    "    if not obj: \n",
    "        return None\n",
    "    # this works for most of the values\n",
    "    next_sibling = obj.findNextSibling()\n",
    "    if next_sibling:\n",
    "        return next_sibling.text \n",
    "    else:\n",
    "        return None\n",
    "\n",
    "def get_movie_link_value(soup, field_name):\n",
    "    '''Grab a value from boxofficemojo HTML\n",
    "    \n",
    "    Alternative to get_movie_value that will work when\n",
    "    text is located in an a tag\n",
    "    '''\n",
    "    obj = soup.find(text=re.compile(field_name))\n",
    "    if not obj: \n",
    "        return None\n",
    "    # this works for most of the values\n",
    "    next_sibling = obj.findNext()\n",
    "    if next_sibling:\n",
    "        return next_sibling.text.strip() \n",
    "    else:\n",
    "        return None\n",
    "\n",
    "def to_date(datestring):\n",
    "    if not datestring:\n",
    "        return dateutil.parser.parse(\"January 1, 2019\")\n",
    "    date = dateutil.parser.parse(datestring)\n",
    "    return date\n",
    "\n",
    "def money_to_int(moneystring):\n",
    "    if not moneystring:\n",
    "        return np.NaN\n",
    "    moneystring = moneystring.replace('$', '').replace(',', '')\n",
    "    return int(moneystring)\n",
    "\n",
    "def runtime_to_minutes(runtimestring):\n",
    "    if not runtimestring:\n",
    "        return np.NaN\n",
    "    runtime = runtimestring.split()\n",
    "    try:\n",
    "        minutes = int(runtime[0])*60 + int(runtime[2])\n",
    "        return minutes\n",
    "    except:\n",
    "        return None\n",
    "\n",
    "def parse_production_budget(productionbudgetstring):\n",
    "    if productionbudgetstring=='N/A' or not productionbudgetstring:\n",
    "        return np.NaN\n",
    "    productionbudgetstring = productionbudgetstring.replace('$', '').replace(',', '')\n",
    "    if \"million\" in productionbudgetstring:\n",
    "        productionbudgetstring=productionbudgetstring[:-8]\n",
    "        productionbudgetstring+='000000'\n",
    "    productionbudgetint=int(float(productionbudgetstring))\n",
    "    return productionbudgetint\n",
    "\n",
    "def in_release_to_days(inreleasestring):\n",
    "    if not inreleasestring:\n",
    "        return np.NaN\n",
    "    return inreleasestring.split(' ')[0]\n",
    "\n",
    "def parse_genre(genrestring):\n",
    "    if not genrestring:\n",
    "        return \"N/A\"\n",
    "    return genrestring.split(\" / \")\n",
    "\n",
    "def parse_awards(awardsstring):\n",
    "    '''Take the string of Academy Award information and return a list. \n",
    "    First value is nominations\n",
    "    Second value (if present) is wins'''\n",
    "    if not awardsstring:\n",
    "        return [0,0,0]\n",
    "    numberdict={'One':1,'Two':2,'Three':3,'Four':4,'Five':5,'Six':6,'Seven':7,'Eight':8,'Nine':9,'Ten':10,'Eleven':11,'Twelve':12,'Thirteen':13,'Fourteen':14,'Fifteen':15}\n",
    "    awards=awardsstring.split()\n",
    "    aa=[]\n",
    "    for wrd in awards:\n",
    "        if wrd in numberdict:\n",
    "            aa.append(numberdict[wrd])\n",
    "    aa.append(0)\n",
    "    aa.append(0)\n",
    "    return(aa)\n",
    "    \n",
    "def parse_single_movie(soup):\n",
    "    '''Scrape features for a single movie and return them in a dictionary'''\n",
    "    entry={}\n",
    "    \n",
    "    #TITLE\n",
    "    raw_title = soup.find('title').text\n",
    "    title = raw_title.split('(')[0].strip()\n",
    "    entry['Title']=title\n",
    "    \n",
    "    #DOMESTIC TOTAL GROSS\n",
    "    raw_domestic_total_gross = get_movie_value(soup,'Domestic Total')\n",
    "    domestic_total_gross = money_to_int(raw_domestic_total_gross)\n",
    "    entry['DomesticTotalGross']=domestic_total_gross\n",
    "    \n",
    "    #RUN TIME IN MINUTES\n",
    "    raw_runtime = get_movie_value(soup,'Runtime')\n",
    "    runtime = runtime_to_minutes(raw_runtime)\n",
    "    entry['RunTime']=runtime\n",
    "    \n",
    "    #RELEASE DATE\n",
    "    raw_release_date = get_movie_value(soup,'Release Date')\n",
    "    release_date = to_date(raw_release_date)\n",
    "    entry['ReleaseDate']=release_date\n",
    "    \n",
    "    #DAY OF THE YEAR\n",
    "    entry['DayOfTheYear']=release_date.strftime('%j')\n",
    "    \n",
    "    #MONTH OF THE YEAR\n",
    "    entry['MonthOfTheYear']=release_date.strftime('%m')\n",
    "    \n",
    "    #DIRECTOR\n",
    "    director=get_movie_link_value(soup,'Director')\n",
    "    entry['Director']=director\n",
    "    \n",
    "    #PRODUCTION BUDGET\n",
    "    raw_production_budget=get_movie_value(soup,'Production Budget')\n",
    "    production_budget=parse_production_budget(raw_production_budget)\n",
    "    entry['ProductionBudget']=production_budget\n",
    "    \n",
    "    #IN RELEASE IN DAYS\n",
    "    raw_in_release=get_movie_link_value(soup,'In Release:')\n",
    "    inrelease=in_release_to_days(raw_in_release)\n",
    "    entry['InRelease']=inrelease\n",
    "    \n",
    "    #MPAA RATING\n",
    "    mpaa=get_movie_value(soup,'MPAA Rating')\n",
    "    entry['MpaaRating']=mpaa\n",
    "    \n",
    "    #DISTRIBUTOR\n",
    "    distributor=get_movie_value(soup, 'Distributor')\n",
    "    entry['Distributor']=distributor\n",
    "    \n",
    "    #GENRE\n",
    "    genre=get_movie_value(soup, \"Genre:\")\n",
    "    entry['Genre']=genre\n",
    "    \n",
    "    #AWARDS\n",
    "    raw_awards=get_movie_link_value(soup, 'Academy')\n",
    "    awards=parse_awards(raw_awards)\n",
    "    entry['Nominations']=awards[0]\n",
    "    entry['Wins']=awards[1]\n",
    "    \n",
    "    return entry\n",
    "    "
   ]
  },
  {
   "cell_type": "code",
   "execution_count": 23,
   "metadata": {},
   "outputs": [],
   "source": [
    "url=\"http://www.boxofficemojo.com/movies/?id=wonderwoman.htm\"\n",
    "soup=urlToSoup(url)\n",
    "release=get_movie_link_value(soup, \"Director\")"
   ]
  },
  {
   "cell_type": "code",
   "execution_count": 24,
   "metadata": {},
   "outputs": [
    {
     "data": {
      "text/plain": [
       "'Patty Jenkins'"
      ]
     },
     "execution_count": 24,
     "metadata": {},
     "output_type": "execute_result"
    }
   ],
   "source": [
    "release"
   ]
  },
  {
   "cell_type": "markdown",
   "metadata": {},
   "source": [
    "### Scraping\n",
    "* use a dataframe, append small chunks of the list of movies\n",
    "* save work partway through, make sure to overwrite dataframe\n",
    "* when starting over be sure to overwrite years variable"
   ]
  },
  {
   "cell_type": "code",
   "execution_count": 307,
   "metadata": {},
   "outputs": [],
   "source": [
    "import copy"
   ]
  },
  {
   "cell_type": "code",
   "execution_count": 308,
   "metadata": {},
   "outputs": [],
   "source": [
    "def parseLinks(start, end):\n",
    "    '''Go through the links in the \"alllinks\" list\n",
    "    in the range specified by \"start\" and \"end\", and\n",
    "    scrape the data for each movie.\n",
    "    Returns dataframe of all movies parsed'''\n",
    "    movies={}\n",
    "    for i in range(start,end):\n",
    "        link=alllinks[i]\n",
    "        movies[link]=parse_single_movie(urlToSoup(link))\n",
    "    return(pd.DataFrame.from_dict(movies, orient=\"index\"))"
   ]
  },
  {
   "cell_type": "code",
   "execution_count": null,
   "metadata": {},
   "outputs": [],
   "source": [
    "#data=None #for use when starting the whole process over\n",
    "data=parseLinks(0, 1001)"
   ]
  },
  {
   "cell_type": "code",
   "execution_count": null,
   "metadata": {},
   "outputs": [],
   "source": [
    "data=data.append(parseLinks(1001,2001))"
   ]
  },
  {
   "cell_type": "code",
   "execution_count": 312,
   "metadata": {},
   "outputs": [],
   "source": [
    "data=data.append(parseLinks(2001,3001))"
   ]
  },
  {
   "cell_type": "code",
   "execution_count": 313,
   "metadata": {},
   "outputs": [],
   "source": [
    "data=data.append(parseLinks(3001,4001))"
   ]
  },
  {
   "cell_type": "code",
   "execution_count": 314,
   "metadata": {},
   "outputs": [],
   "source": [
    "#Save current work to csv file, start dataframe over empty. Remember to make your filename unique to this batch.\n",
    "data.to_csv(\"1980-2017_0001-4000.csv\")\n",
    "data=None"
   ]
  },
  {
   "cell_type": "code",
   "execution_count": null,
   "metadata": {},
   "outputs": [],
   "source": [
    "data=parseLinks(4001, 5001)"
   ]
  },
  {
   "cell_type": "code",
   "execution_count": 317,
   "metadata": {},
   "outputs": [],
   "source": [
    "data=data.append(parseLinks(5001, 6001))"
   ]
  },
  {
   "cell_type": "code",
   "execution_count": 318,
   "metadata": {},
   "outputs": [],
   "source": [
    "data=data.append(parseLinks(6001, 7001))"
   ]
  },
  {
   "cell_type": "code",
   "execution_count": 319,
   "metadata": {},
   "outputs": [],
   "source": [
    "data=data.append(parseLinks(7001, 8001))"
   ]
  },
  {
   "cell_type": "code",
   "execution_count": 320,
   "metadata": {},
   "outputs": [],
   "source": [
    "data=data.append(parseLinks(8001, len(alllinks)-1))"
   ]
  },
  {
   "cell_type": "code",
   "execution_count": 322,
   "metadata": {},
   "outputs": [],
   "source": [
    "data.to_csv(\"1980-2017_4001-end.csv\")        "
   ]
  },
  {
   "cell_type": "markdown",
   "metadata": {},
   "source": [
    "* Concatenate all of the csv files into one larger dataframe"
   ]
  },
  {
   "cell_type": "code",
   "execution_count": 323,
   "metadata": {},
   "outputs": [],
   "source": [
    "df1=pd.read_csv(\"1980-2017_0001-4000.csv\")\n",
    "df2=pd.read_csv(\"1980-2017_4001-end.csv\")"
   ]
  },
  {
   "cell_type": "code",
   "execution_count": 324,
   "metadata": {},
   "outputs": [],
   "source": [
    "import pickle"
   ]
  },
  {
   "cell_type": "code",
   "execution_count": 325,
   "metadata": {},
   "outputs": [],
   "source": [
    "df1.append(df2)\n",
    "with open('movies_1980-2017.pkl', 'wb') as picklefile:\n",
    "    pickle.dump(data, picklefile)"
   ]
  },
  {
   "cell_type": "code",
   "execution_count": 326,
   "metadata": {},
   "outputs": [
    {
     "name": "stdout",
     "output_type": "stream",
     "text": [
      "1980-2017_0001-4000.csv\r\n",
      "1980-2017_4001-end.csv\r\n",
      "2013_movies.csv\r\n",
      "Untitled.ipynb\r\n",
      "challenge_set_03_katie.ipynb\r\n",
      "movies_150-2017.pkl\r\n",
      "oscar-scraping.ipynb\r\n",
      "\u001b[34moscars\u001b[m\u001b[m\r\n",
      "oscars_noms_scraping.ipynb\r\n",
      "pairprobJuly11.ipynb\r\n",
      "web_scraping_beautifulsoup_kaszklar.ipynb\r\n",
      "web_scraping_selenium-kaszklar.ipynb\r\n"
     ]
    }
   ],
   "source": [
    "!ls"
   ]
  },
  {
   "cell_type": "code",
   "execution_count": null,
   "metadata": {},
   "outputs": [],
   "source": []
  }
 ],
 "metadata": {
  "kernelspec": {
   "display_name": "Python 3",
   "language": "python",
   "name": "python3"
  },
  "language_info": {
   "codemirror_mode": {
    "name": "ipython",
    "version": 3
   },
   "file_extension": ".py",
   "mimetype": "text/x-python",
   "name": "python",
   "nbconvert_exporter": "python",
   "pygments_lexer": "ipython3",
   "version": "3.6.4"
  }
 },
 "nbformat": 4,
 "nbformat_minor": 2
}
