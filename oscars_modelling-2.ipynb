{
 "cells": [
  {
   "cell_type": "code",
   "execution_count": 39,
   "metadata": {},
   "outputs": [],
   "source": [
    "import pandas as pd\n",
    "import numpy as np\n",
    "import matplotlib.pyplot as plt\n",
    "import seaborn as sns\n",
    "sns.set()\n",
    "\n",
    "%matplotlib inline"
   ]
  },
  {
   "cell_type": "code",
   "execution_count": 40,
   "metadata": {},
   "outputs": [],
   "source": [
    "from sklearn.linear_model import Lasso, Ridge, ElasticNet, LinearRegression\n",
    "\n",
    "from sklearn.model_selection import (cross_val_score, train_test_split, \n",
    "                                     KFold, GridSearchCV)\n",
    "\n",
    "import statsmodels.api as sm\n",
    "import statsmodels.formula.api as smf "
   ]
  },
  {
   "cell_type": "code",
   "execution_count": 41,
   "metadata": {},
   "outputs": [],
   "source": [
    "df=pd.read_csv(\"final-data.csv\")"
   ]
  },
  {
   "cell_type": "code",
   "execution_count": 42,
   "metadata": {},
   "outputs": [
    {
     "data": {
      "text/html": [
       "<div>\n",
       "<style scoped>\n",
       "    .dataframe tbody tr th:only-of-type {\n",
       "        vertical-align: middle;\n",
       "    }\n",
       "\n",
       "    .dataframe tbody tr th {\n",
       "        vertical-align: top;\n",
       "    }\n",
       "\n",
       "    .dataframe thead th {\n",
       "        text-align: right;\n",
       "    }\n",
       "</style>\n",
       "<table border=\"1\" class=\"dataframe\">\n",
       "  <thead>\n",
       "    <tr style=\"text-align: right;\">\n",
       "      <th></th>\n",
       "      <th>the_index</th>\n",
       "      <th>Title</th>\n",
       "      <th>DomesticTotalGross</th>\n",
       "      <th>RunTime</th>\n",
       "      <th>ReleaseDate</th>\n",
       "      <th>Director</th>\n",
       "      <th>ProductionBudget</th>\n",
       "      <th>InRelease</th>\n",
       "      <th>MpaaRating</th>\n",
       "      <th>Distributor</th>\n",
       "      <th>Genre</th>\n",
       "      <th>Nominations</th>\n",
       "      <th>Wins</th>\n",
       "      <th>IntDayOfTheYear</th>\n",
       "      <th>IntMonthOfTheYear</th>\n",
       "      <th>DayOfTheYear^2</th>\n",
       "      <th>OpeningGross</th>\n",
       "      <th>OpeningRank</th>\n",
       "      <th>OpeningRatio</th>\n",
       "      <th>GenreMap_Comedy</th>\n",
       "    </tr>\n",
       "  </thead>\n",
       "  <tbody>\n",
       "    <tr>\n",
       "      <th>0</th>\n",
       "      <td>http://www.boxofficemojo.com/movies/?id=ali.htm</td>\n",
       "      <td>Ali</td>\n",
       "      <td>58203105.0</td>\n",
       "      <td>156.0</td>\n",
       "      <td>2001-12-25</td>\n",
       "      <td>Michael Mann</td>\n",
       "      <td>107000000.0</td>\n",
       "      <td>52</td>\n",
       "      <td>R</td>\n",
       "      <td>Sony / Columbia</td>\n",
       "      <td>Sports Drama</td>\n",
       "      <td>2</td>\n",
       "      <td>0</td>\n",
       "      <td>359</td>\n",
       "      <td>12</td>\n",
       "      <td>128881</td>\n",
       "      <td>14710892.0</td>\n",
       "      <td>4.0</td>\n",
       "      <td>25.275098</td>\n",
       "      <td>0</td>\n",
       "    </tr>\n",
       "    <tr>\n",
       "      <th>1</th>\n",
       "      <td>http://www.boxofficemojo.com/movies/?id=americ...</td>\n",
       "      <td>America's Sweethearts</td>\n",
       "      <td>93607673.0</td>\n",
       "      <td>102.0</td>\n",
       "      <td>2001-07-20</td>\n",
       "      <td>Joe Roth</td>\n",
       "      <td>46000000.0</td>\n",
       "      <td>101</td>\n",
       "      <td>PG-13</td>\n",
       "      <td>Sony (Revolution)</td>\n",
       "      <td>Romantic Comedy</td>\n",
       "      <td>0</td>\n",
       "      <td>0</td>\n",
       "      <td>201</td>\n",
       "      <td>7</td>\n",
       "      <td>40401</td>\n",
       "      <td>30181877.0</td>\n",
       "      <td>2.0</td>\n",
       "      <td>32.242952</td>\n",
       "      <td>0</td>\n",
       "    </tr>\n",
       "    <tr>\n",
       "      <th>2</th>\n",
       "      <td>http://www.boxofficemojo.com/movies/?id=anygiv...</td>\n",
       "      <td>Any Given Sunday</td>\n",
       "      <td>75530832.0</td>\n",
       "      <td>157.0</td>\n",
       "      <td>1999-12-22</td>\n",
       "      <td>Oliver Stone</td>\n",
       "      <td>55000000.0</td>\n",
       "      <td>100</td>\n",
       "      <td>R</td>\n",
       "      <td>Warner Bros.</td>\n",
       "      <td>Sports Drama</td>\n",
       "      <td>0</td>\n",
       "      <td>0</td>\n",
       "      <td>356</td>\n",
       "      <td>12</td>\n",
       "      <td>126736</td>\n",
       "      <td>13584625.0</td>\n",
       "      <td>1.0</td>\n",
       "      <td>17.985536</td>\n",
       "      <td>0</td>\n",
       "    </tr>\n",
       "    <tr>\n",
       "      <th>3</th>\n",
       "      <td>http://www.boxofficemojo.com/movies/?id=babybo...</td>\n",
       "      <td>Baby Boy</td>\n",
       "      <td>28734552.0</td>\n",
       "      <td>129.0</td>\n",
       "      <td>2001-06-27</td>\n",
       "      <td>John Singleton</td>\n",
       "      <td>16000000.0</td>\n",
       "      <td>75</td>\n",
       "      <td>R</td>\n",
       "      <td>Sony / Columbia</td>\n",
       "      <td>Drama</td>\n",
       "      <td>0</td>\n",
       "      <td>0</td>\n",
       "      <td>178</td>\n",
       "      <td>6</td>\n",
       "      <td>31684</td>\n",
       "      <td>8606403.0</td>\n",
       "      <td>5.0</td>\n",
       "      <td>29.951408</td>\n",
       "      <td>0</td>\n",
       "    </tr>\n",
       "    <tr>\n",
       "      <th>4</th>\n",
       "      <td>http://www.boxofficemojo.com/movies/?id=bicent...</td>\n",
       "      <td>Bicentennial Man</td>\n",
       "      <td>58223861.0</td>\n",
       "      <td>131.0</td>\n",
       "      <td>1999-12-17</td>\n",
       "      <td>Chris Columbus</td>\n",
       "      <td>100000000.0</td>\n",
       "      <td>168</td>\n",
       "      <td>PG</td>\n",
       "      <td>Buena Vista</td>\n",
       "      <td>Sci-Fi</td>\n",
       "      <td>1</td>\n",
       "      <td>0</td>\n",
       "      <td>351</td>\n",
       "      <td>12</td>\n",
       "      <td>123201</td>\n",
       "      <td>8234926.0</td>\n",
       "      <td>5.0</td>\n",
       "      <td>14.143559</td>\n",
       "      <td>0</td>\n",
       "    </tr>\n",
       "  </tbody>\n",
       "</table>\n",
       "</div>"
      ],
      "text/plain": [
       "                                           the_index                  Title  \\\n",
       "0    http://www.boxofficemojo.com/movies/?id=ali.htm                    Ali   \n",
       "1  http://www.boxofficemojo.com/movies/?id=americ...  America's Sweethearts   \n",
       "2  http://www.boxofficemojo.com/movies/?id=anygiv...       Any Given Sunday   \n",
       "3  http://www.boxofficemojo.com/movies/?id=babybo...               Baby Boy   \n",
       "4  http://www.boxofficemojo.com/movies/?id=bicent...       Bicentennial Man   \n",
       "\n",
       "   DomesticTotalGross  RunTime ReleaseDate        Director  ProductionBudget  \\\n",
       "0          58203105.0    156.0  2001-12-25    Michael Mann       107000000.0   \n",
       "1          93607673.0    102.0  2001-07-20        Joe Roth        46000000.0   \n",
       "2          75530832.0    157.0  1999-12-22    Oliver Stone        55000000.0   \n",
       "3          28734552.0    129.0  2001-06-27  John Singleton        16000000.0   \n",
       "4          58223861.0    131.0  1999-12-17  Chris Columbus       100000000.0   \n",
       "\n",
       "   InRelease MpaaRating        Distributor            Genre  Nominations  \\\n",
       "0         52          R    Sony / Columbia     Sports Drama            2   \n",
       "1        101      PG-13  Sony (Revolution)  Romantic Comedy            0   \n",
       "2        100          R       Warner Bros.     Sports Drama            0   \n",
       "3         75          R    Sony / Columbia            Drama            0   \n",
       "4        168         PG        Buena Vista           Sci-Fi            1   \n",
       "\n",
       "   Wins  IntDayOfTheYear  IntMonthOfTheYear  DayOfTheYear^2  OpeningGross  \\\n",
       "0     0              359                 12          128881    14710892.0   \n",
       "1     0              201                  7           40401    30181877.0   \n",
       "2     0              356                 12          126736    13584625.0   \n",
       "3     0              178                  6           31684     8606403.0   \n",
       "4     0              351                 12          123201     8234926.0   \n",
       "\n",
       "   OpeningRank  OpeningRatio  GenreMap_Comedy  \n",
       "0          4.0     25.275098                0  \n",
       "1          2.0     32.242952                0  \n",
       "2          1.0     17.985536                0  \n",
       "3          5.0     29.951408                0  \n",
       "4          5.0     14.143559                0  "
      ]
     },
     "execution_count": 42,
     "metadata": {},
     "output_type": "execute_result"
    }
   ],
   "source": [
    "df.head()"
   ]
  },
  {
   "cell_type": "code",
   "execution_count": 43,
   "metadata": {},
   "outputs": [],
   "source": [
    "df=df.set_index('the_index')"
   ]
  },
  {
   "cell_type": "code",
   "execution_count": 44,
   "metadata": {},
   "outputs": [
    {
     "data": {
      "text/plain": [
       "Index(['Title', 'DomesticTotalGross', 'RunTime', 'ReleaseDate', 'Director',\n",
       "       'ProductionBudget', 'InRelease', 'MpaaRating', 'Distributor', 'Genre',\n",
       "       'Nominations', 'Wins', 'IntDayOfTheYear', 'IntMonthOfTheYear',\n",
       "       'DayOfTheYear^2', 'OpeningGross', 'OpeningRank', 'OpeningRatio',\n",
       "       'GenreMap_Comedy'],\n",
       "      dtype='object')"
      ]
     },
     "execution_count": 44,
     "metadata": {},
     "output_type": "execute_result"
    }
   ],
   "source": [
    "df.columns"
   ]
  },
  {
   "cell_type": "code",
   "execution_count": 45,
   "metadata": {},
   "outputs": [],
   "source": [
    "df['shiftLogNoms']=np.log(df['Nominations']+1)"
   ]
  },
  {
   "cell_type": "code",
   "execution_count": 46,
   "metadata": {},
   "outputs": [
    {
     "name": "stderr",
     "output_type": "stream",
     "text": [
      "/anaconda3/lib/python3.6/site-packages/matplotlib/axes/_axes.py:6448: UserWarning: The 'normed' kwarg is deprecated, and has been replaced by the 'density' kwarg.\n",
      "  warnings.warn(\"The 'normed' kwarg is deprecated, and has been \"\n"
     ]
    },
    {
     "data": {
      "text/plain": [
       "<matplotlib.axes._subplots.AxesSubplot at 0x1c15de3668>"
      ]
     },
     "execution_count": 46,
     "metadata": {},
     "output_type": "execute_result"
    },
    {
     "data": {
      "image/png": "[encoded data removed]",
      "text/plain": [
       "<Figure size 432x288 with 1 Axes>"
      ]
     },
     "metadata": {},
     "output_type": "display_data"
    }
   ],
   "source": [
    "sns.distplot(df['Nominations'])"
   ]
  },
  {
   "cell_type": "code",
   "execution_count": 9,
   "metadata": {},
   "outputs": [],
   "source": [
    "features, target = ['DomesticTotalGross','RunTime','ProductionBudget','InRelease','OpeningRatio','OpeningGross'], ['shiftLogNoms']\n",
    "X, y = df[features], df[target].values\n",
    "X_train, X_holdout, y_train, y_holdout = train_test_split(df[features], df[target], test_size=0.1, random_state=42)"
   ]
  },
  {
   "cell_type": "code",
   "execution_count": 10,
   "metadata": {},
   "outputs": [
    {
     "data": {
      "text/html": [
       "<table class=\"simpletable\">\n",
       "<caption>OLS Regression Results</caption>\n",
       "<tr>\n",
       "  <th>Dep. Variable:</th>      <td>shiftLogNoms</td>   <th>  R-squared:         </th> <td>   0.431</td> \n",
       "</tr>\n",
       "<tr>\n",
       "  <th>Model:</th>                   <td>OLS</td>       <th>  Adj. R-squared:    </th> <td>   0.428</td> \n",
       "</tr>\n",
       "<tr>\n",
       "  <th>Method:</th>             <td>Least Squares</td>  <th>  F-statistic:       </th> <td>   135.7</td> \n",
       "</tr>\n",
       "<tr>\n",
       "  <th>Date:</th>             <td>Thu, 19 Jul 2018</td> <th>  Prob (F-statistic):</th> <td>6.97e-128</td>\n",
       "</tr>\n",
       "<tr>\n",
       "  <th>Time:</th>                 <td>18:44:52</td>     <th>  Log-Likelihood:    </th> <td> -532.77</td> \n",
       "</tr>\n",
       "<tr>\n",
       "  <th>No. Observations:</th>      <td>  1080</td>      <th>  AIC:               </th> <td>   1078.</td> \n",
       "</tr>\n",
       "<tr>\n",
       "  <th>Df Residuals:</th>          <td>  1074</td>      <th>  BIC:               </th> <td>   1107.</td> \n",
       "</tr>\n",
       "<tr>\n",
       "  <th>Df Model:</th>              <td>     6</td>      <th>                     </th>     <td> </td>    \n",
       "</tr>\n",
       "<tr>\n",
       "  <th>Covariance Type:</th>      <td>nonrobust</td>    <th>                     </th>     <td> </td>    \n",
       "</tr>\n",
       "</table>\n",
       "<table class=\"simpletable\">\n",
       "<tr>\n",
       "           <td></td>             <th>coef</th>     <th>std err</th>      <th>t</th>      <th>P>|t|</th>  <th>[0.025</th>    <th>0.975]</th>  \n",
       "</tr>\n",
       "<tr>\n",
       "  <th>DomesticTotalGross</th> <td> 3.855e-09</td> <td>  4.5e-10</td> <td>    8.572</td> <td> 0.000</td> <td> 2.97e-09</td> <td> 4.74e-09</td>\n",
       "</tr>\n",
       "<tr>\n",
       "  <th>RunTime</th>            <td>    0.0036</td> <td>    0.001</td> <td>    6.751</td> <td> 0.000</td> <td>    0.003</td> <td>    0.005</td>\n",
       "</tr>\n",
       "<tr>\n",
       "  <th>ProductionBudget</th>   <td> 6.846e-10</td> <td> 3.05e-10</td> <td>    2.248</td> <td> 0.025</td> <td> 8.71e-11</td> <td> 1.28e-09</td>\n",
       "</tr>\n",
       "<tr>\n",
       "  <th>InRelease</th>          <td>    0.0004</td> <td>    0.000</td> <td>    1.089</td> <td> 0.276</td> <td>   -0.000</td> <td>    0.001</td>\n",
       "</tr>\n",
       "<tr>\n",
       "  <th>OpeningRatio</th>       <td>   -0.0108</td> <td>    0.001</td> <td>   -8.173</td> <td> 0.000</td> <td>   -0.013</td> <td>   -0.008</td>\n",
       "</tr>\n",
       "<tr>\n",
       "  <th>OpeningGross</th>       <td>-9.164e-09</td> <td> 1.36e-09</td> <td>   -6.717</td> <td> 0.000</td> <td>-1.18e-08</td> <td>-6.49e-09</td>\n",
       "</tr>\n",
       "</table>\n",
       "<table class=\"simpletable\">\n",
       "<tr>\n",
       "  <th>Omnibus:</th>       <td>416.085</td> <th>  Durbin-Watson:     </th> <td>   1.852</td>\n",
       "</tr>\n",
       "<tr>\n",
       "  <th>Prob(Omnibus):</th> <td> 0.000</td>  <th>  Jarque-Bera (JB):  </th> <td>1854.593</td>\n",
       "</tr>\n",
       "<tr>\n",
       "  <th>Skew:</th>          <td> 1.777</td>  <th>  Prob(JB):          </th> <td>    0.00</td>\n",
       "</tr>\n",
       "<tr>\n",
       "  <th>Kurtosis:</th>      <td> 8.347</td>  <th>  Cond. No.          </th> <td>1.75e+07</td>\n",
       "</tr>\n",
       "</table>"
      ],
      "text/plain": [
       "<class 'statsmodels.iolib.summary.Summary'>\n",
       "\"\"\"\n",
       "                            OLS Regression Results                            \n",
       "==============================================================================\n",
       "Dep. Variable:           shiftLogNoms   R-squared:                       0.431\n",
       "Model:                            OLS   Adj. R-squared:                  0.428\n",
       "Method:                 Least Squares   F-statistic:                     135.7\n",
       "Date:                Thu, 19 Jul 2018   Prob (F-statistic):          6.97e-128\n",
       "Time:                        18:44:52   Log-Likelihood:                -532.77\n",
       "No. Observations:                1080   AIC:                             1078.\n",
       "Df Residuals:                    1074   BIC:                             1107.\n",
       "Df Model:                           6                                         \n",
       "Covariance Type:            nonrobust                                         \n",
       "======================================================================================\n",
       "                         coef    std err          t      P>|t|      [0.025      0.975]\n",
       "--------------------------------------------------------------------------------------\n",
       "DomesticTotalGross  3.855e-09    4.5e-10      8.572      0.000    2.97e-09    4.74e-09\n",
       "RunTime                0.0036      0.001      6.751      0.000       0.003       0.005\n",
       "ProductionBudget    6.846e-10   3.05e-10      2.248      0.025    8.71e-11    1.28e-09\n",
       "InRelease              0.0004      0.000      1.089      0.276      -0.000       0.001\n",
       "OpeningRatio          -0.0108      0.001     -8.173      0.000      -0.013      -0.008\n",
       "OpeningGross       -9.164e-09   1.36e-09     -6.717      0.000   -1.18e-08   -6.49e-09\n",
       "==============================================================================\n",
       "Omnibus:                      416.085   Durbin-Watson:                   1.852\n",
       "Prob(Omnibus):                  0.000   Jarque-Bera (JB):             1854.593\n",
       "Skew:                           1.777   Prob(JB):                         0.00\n",
       "Kurtosis:                       8.347   Cond. No.                     1.75e+07\n",
       "==============================================================================\n",
       "\n",
       "Warnings:\n",
       "[1] Standard Errors assume that the covariance matrix of the errors is correctly specified.\n",
       "[2] The condition number is large, 1.75e+07. This might indicate that there are\n",
       "strong multicollinearity or other numerical problems.\n",
       "\"\"\""
      ]
     },
     "execution_count": 10,
     "metadata": {},
     "output_type": "execute_result"
    }
   ],
   "source": [
    "model = sm.OLS(y_train.astype(float),X_train.astype(float))\n",
    "results = model.fit()\n",
    "\n",
    "results.summary()"
   ]
  },
  {
   "cell_type": "code",
   "execution_count": 47,
   "metadata": {},
   "outputs": [
    {
     "name": "stderr",
     "output_type": "stream",
     "text": [
      "/anaconda3/lib/python3.6/site-packages/matplotlib/axes/_axes.py:6448: UserWarning: The 'normed' kwarg is deprecated, and has been replaced by the 'density' kwarg.\n",
      "  warnings.warn(\"The 'normed' kwarg is deprecated, and has been \"\n"
     ]
    },
    {
     "data": {
      "text/plain": [
       "<matplotlib.axes._subplots.AxesSubplot at 0x1c15afbc50>"
      ]
     },
     "execution_count": 47,
     "metadata": {},
     "output_type": "execute_result"
    },
    {
     "data": {
      "image/png": "[encoded data removed]",
      "text/plain": [
       "<Figure size 432x288 with 1 Axes>"
      ]
     },
     "metadata": {},
     "output_type": "display_data"
    }
   ],
   "source": [
    "sns.distplot(df['DomesticTotalGross'])"
   ]
  },
  {
   "cell_type": "code",
   "execution_count": 48,
   "metadata": {},
   "outputs": [
    {
     "name": "stderr",
     "output_type": "stream",
     "text": [
      "/anaconda3/lib/python3.6/site-packages/matplotlib/axes/_axes.py:6448: UserWarning: The 'normed' kwarg is deprecated, and has been replaced by the 'density' kwarg.\n",
      "  warnings.warn(\"The 'normed' kwarg is deprecated, and has been \"\n"
     ]
    },
    {
     "data": {
      "text/plain": [
       "<matplotlib.axes._subplots.AxesSubplot at 0x1c15be7128>"
      ]
     },
     "execution_count": 48,
     "metadata": {},
     "output_type": "execute_result"
    },
    {
     "data": {
      "image/png": "[encoded data removed]",
      "text/plain": [
       "<Figure size 432x288 with 1 Axes>"
      ]
     },
     "metadata": {},
     "output_type": "display_data"
    }
   ],
   "source": [
    "sns.distplot(df['RunTime'])"
   ]
  },
  {
   "cell_type": "code",
   "execution_count": 49,
   "metadata": {},
   "outputs": [
    {
     "name": "stderr",
     "output_type": "stream",
     "text": [
      "/anaconda3/lib/python3.6/site-packages/matplotlib/axes/_axes.py:6448: UserWarning: The 'normed' kwarg is deprecated, and has been replaced by the 'density' kwarg.\n",
      "  warnings.warn(\"The 'normed' kwarg is deprecated, and has been \"\n"
     ]
    },
    {
     "data": {
      "text/plain": [
       "<matplotlib.axes._subplots.AxesSubplot at 0x1c15c43940>"
      ]
     },
     "execution_count": 49,
     "metadata": {},
     "output_type": "execute_result"
    },
    {
     "data": {
      "image/png": "[encoded data removed]",
      "text/plain": [
       "<Figure size 432x288 with 1 Axes>"
      ]
     },
     "metadata": {},
     "output_type": "display_data"
    }
   ],
   "source": [
    "sns.distplot(df['ProductionBudget'])"
   ]
  },
  {
   "cell_type": "code",
   "execution_count": 50,
   "metadata": {},
   "outputs": [
    {
     "name": "stderr",
     "output_type": "stream",
     "text": [
      "/anaconda3/lib/python3.6/site-packages/matplotlib/axes/_axes.py:6448: UserWarning: The 'normed' kwarg is deprecated, and has been replaced by the 'density' kwarg.\n",
      "  warnings.warn(\"The 'normed' kwarg is deprecated, and has been \"\n"
     ]
    },
    {
     "data": {
      "text/plain": [
       "<matplotlib.axes._subplots.AxesSubplot at 0x1c15e7f198>"
      ]
     },
     "execution_count": 50,
     "metadata": {},
     "output_type": "execute_result"
    },
    {
     "data": {
      "image/png": "[encoded data removed]",
      "text/plain": [
       "<Figure size 432x288 with 1 Axes>"
      ]
     },
     "metadata": {},
     "output_type": "display_data"
    }
   ],
   "source": [
    "df['logInRelease']=np.log(df['InRelease'])\n",
    "sns.distplot(df['logInRelease'])"
   ]
  },
  {
   "cell_type": "code",
   "execution_count": 51,
   "metadata": {},
   "outputs": [
    {
     "name": "stderr",
     "output_type": "stream",
     "text": [
      "/anaconda3/lib/python3.6/site-packages/matplotlib/axes/_axes.py:6448: UserWarning: The 'normed' kwarg is deprecated, and has been replaced by the 'density' kwarg.\n",
      "  warnings.warn(\"The 'normed' kwarg is deprecated, and has been \"\n"
     ]
    },
    {
     "data": {
      "text/plain": [
       "<matplotlib.axes._subplots.AxesSubplot at 0x1c15e66198>"
      ]
     },
     "execution_count": 51,
     "metadata": {},
     "output_type": "execute_result"
    },
    {
     "data": {
      "image/png": "[encoded data removed]",
      "text/plain": [
       "<Figure size 432x288 with 1 Axes>"
      ]
     },
     "metadata": {},
     "output_type": "display_data"
    }
   ],
   "source": [
    "sns.distplot(df['InRelease'])"
   ]
  },
  {
   "cell_type": "code",
   "execution_count": 52,
   "metadata": {},
   "outputs": [
    {
     "name": "stderr",
     "output_type": "stream",
     "text": [
      "/anaconda3/lib/python3.6/site-packages/matplotlib/axes/_axes.py:6448: UserWarning: The 'normed' kwarg is deprecated, and has been replaced by the 'density' kwarg.\n",
      "  warnings.warn(\"The 'normed' kwarg is deprecated, and has been \"\n"
     ]
    },
    {
     "data": {
      "text/plain": [
       "<matplotlib.axes._subplots.AxesSubplot at 0x1c15e727f0>"
      ]
     },
     "execution_count": 52,
     "metadata": {},
     "output_type": "execute_result"
    },
    {
     "data": {
      "image/png": "[encoded data removed]",
      "text/plain": [
       "<Figure size 432x288 with 1 Axes>"
      ]
     },
     "metadata": {},
     "output_type": "display_data"
    }
   ],
   "source": [
    "sns.distplot(df['OpeningGross'])"
   ]
  },
  {
   "cell_type": "code",
   "execution_count": 53,
   "metadata": {},
   "outputs": [
    {
     "name": "stderr",
     "output_type": "stream",
     "text": [
      "/anaconda3/lib/python3.6/site-packages/matplotlib/axes/_axes.py:6448: UserWarning: The 'normed' kwarg is deprecated, and has been replaced by the 'density' kwarg.\n",
      "  warnings.warn(\"The 'normed' kwarg is deprecated, and has been \"\n"
     ]
    },
    {
     "data": {
      "text/plain": [
       "<matplotlib.axes._subplots.AxesSubplot at 0x1c16196dd8>"
      ]
     },
     "execution_count": 53,
     "metadata": {},
     "output_type": "execute_result"
    },
    {
     "data": {
      "image/png": "[encoded data removed]",
      "text/plain": [
       "<Figure size 432x288 with 1 Axes>"
      ]
     },
     "metadata": {},
     "output_type": "display_data"
    }
   ],
   "source": [
    "df['logOpeningGross']=np.log(df['OpeningGross'])\n",
    "sns.distplot(df['logOpeningGross'])"
   ]
  },
  {
   "cell_type": "code",
   "execution_count": 54,
   "metadata": {},
   "outputs": [
    {
     "name": "stderr",
     "output_type": "stream",
     "text": [
      "/anaconda3/lib/python3.6/site-packages/matplotlib/axes/_axes.py:6448: UserWarning: The 'normed' kwarg is deprecated, and has been replaced by the 'density' kwarg.\n",
      "  warnings.warn(\"The 'normed' kwarg is deprecated, and has been \"\n"
     ]
    },
    {
     "data": {
      "text/plain": [
       "<matplotlib.axes._subplots.AxesSubplot at 0x1c15f68c88>"
      ]
     },
     "execution_count": 54,
     "metadata": {},
     "output_type": "execute_result"
    },
    {
     "data": {
      "image/png": "[encoded data removed]",
      "text/plain": [
       "<Figure size 432x288 with 1 Axes>"
      ]
     },
     "metadata": {},
     "output_type": "display_data"
    }
   ],
   "source": [
    "sns.distplot(df['OpeningRatio'])"
   ]
  },
  {
   "cell_type": "code",
   "execution_count": 55,
   "metadata": {},
   "outputs": [
    {
     "name": "stderr",
     "output_type": "stream",
     "text": [
      "/anaconda3/lib/python3.6/site-packages/matplotlib/axes/_axes.py:6448: UserWarning: The 'normed' kwarg is deprecated, and has been replaced by the 'density' kwarg.\n",
      "  warnings.warn(\"The 'normed' kwarg is deprecated, and has been \"\n"
     ]
    },
    {
     "data": {
      "text/plain": [
       "<matplotlib.axes._subplots.AxesSubplot at 0x1c1637eb38>"
      ]
     },
     "execution_count": 55,
     "metadata": {},
     "output_type": "execute_result"
    },
    {
     "data": {
      "image/png": "[encoded data removed]",
      "text/plain": [
       "<Figure size 432x288 with 1 Axes>"
      ]
     },
     "metadata": {},
     "output_type": "display_data"
    }
   ],
   "source": [
    "sns.distplot(df['OpeningRank'])"
   ]
  },
  {
   "cell_type": "code",
   "execution_count": 56,
   "metadata": {},
   "outputs": [
    {
     "name": "stderr",
     "output_type": "stream",
     "text": [
      "/anaconda3/lib/python3.6/site-packages/matplotlib/axes/_axes.py:6448: UserWarning: The 'normed' kwarg is deprecated, and has been replaced by the 'density' kwarg.\n",
      "  warnings.warn(\"The 'normed' kwarg is deprecated, and has been \"\n"
     ]
    },
    {
     "data": {
      "text/plain": [
       "<matplotlib.axes._subplots.AxesSubplot at 0x1c1641e048>"
      ]
     },
     "execution_count": 56,
     "metadata": {},
     "output_type": "execute_result"
    },
    {
     "data": {
      "image/png": "[encoded data removed]",
      "text/plain": [
       "<Figure size 432x288 with 1 Axes>"
      ]
     },
     "metadata": {},
     "output_type": "display_data"
    }
   ],
   "source": [
    "df['logOpeningRank']=np.log(df['OpeningRank'])\n",
    "sns.distplot(df['logOpeningRank'])"
   ]
  },
  {
   "cell_type": "code",
   "execution_count": 57,
   "metadata": {},
   "outputs": [
    {
     "name": "stderr",
     "output_type": "stream",
     "text": [
      "/anaconda3/lib/python3.6/site-packages/matplotlib/axes/_axes.py:6448: UserWarning: The 'normed' kwarg is deprecated, and has been replaced by the 'density' kwarg.\n",
      "  warnings.warn(\"The 'normed' kwarg is deprecated, and has been \"\n"
     ]
    },
    {
     "data": {
      "text/plain": [
       "<matplotlib.axes._subplots.AxesSubplot at 0x1c1643c668>"
      ]
     },
     "execution_count": 57,
     "metadata": {},
     "output_type": "execute_result"
    },
    {
     "data": {
      "image/png": "[encoded data removed]",
      "text/plain": [
       "<Figure size 432x288 with 1 Axes>"
      ]
     },
     "metadata": {},
     "output_type": "display_data"
    }
   ],
   "source": [
    "sns.distplot(df['IntDayOfTheYear'])"
   ]
  },
  {
   "cell_type": "code",
   "execution_count": 58,
   "metadata": {},
   "outputs": [
    {
     "data": {
      "text/plain": [
       "Index(['Title', 'DomesticTotalGross', 'RunTime', 'ReleaseDate', 'Director',\n",
       "       'ProductionBudget', 'InRelease', 'MpaaRating', 'Distributor', 'Genre',\n",
       "       'Nominations', 'Wins', 'IntDayOfTheYear', 'IntMonthOfTheYear',\n",
       "       'DayOfTheYear^2', 'OpeningGross', 'OpeningRank', 'OpeningRatio',\n",
       "       'GenreMap_Comedy', 'shiftLogNoms', 'logInRelease', 'logOpeningGross',\n",
       "       'logOpeningRank'],\n",
       "      dtype='object')"
      ]
     },
     "execution_count": 58,
     "metadata": {},
     "output_type": "execute_result"
    }
   ],
   "source": [
    "df.columns"
   ]
  },
  {
   "cell_type": "code",
   "execution_count": 59,
   "metadata": {},
   "outputs": [],
   "source": [
    "df['logDomesticTotalGross']=np.log(df['DomesticTotalGross'])\n",
    "df['logProductionBudget']=np.log(df['ProductionBudget'])"
   ]
  },
  {
   "cell_type": "code",
   "execution_count": 60,
   "metadata": {},
   "outputs": [
    {
     "name": "stderr",
     "output_type": "stream",
     "text": [
      "/anaconda3/lib/python3.6/site-packages/matplotlib/axes/_axes.py:6448: UserWarning: The 'normed' kwarg is deprecated, and has been replaced by the 'density' kwarg.\n",
      "  warnings.warn(\"The 'normed' kwarg is deprecated, and has been \"\n"
     ]
    },
    {
     "data": {
      "text/plain": [
       "<matplotlib.axes._subplots.AxesSubplot at 0x1c1655c978>"
      ]
     },
     "execution_count": 60,
     "metadata": {},
     "output_type": "execute_result"
    },
    {
     "data": {
      "image/png": "[encoded data removed]",
      "text/plain": [
       "<Figure size 432x288 with 1 Axes>"
      ]
     },
     "metadata": {},
     "output_type": "display_data"
    }
   ],
   "source": [
    "sns.distplot(df['logProductionBudget'])"
   ]
  },
  {
   "cell_type": "code",
   "execution_count": 61,
   "metadata": {},
   "outputs": [
    {
     "data": {
      "text/html": [
       "<div>\n",
       "<style scoped>\n",
       "    .dataframe tbody tr th:only-of-type {\n",
       "        vertical-align: middle;\n",
       "    }\n",
       "\n",
       "    .dataframe tbody tr th {\n",
       "        vertical-align: top;\n",
       "    }\n",
       "\n",
       "    .dataframe thead th {\n",
       "        text-align: right;\n",
       "    }\n",
       "</style>\n",
       "<table border=\"1\" class=\"dataframe\">\n",
       "  <thead>\n",
       "    <tr style=\"text-align: right;\">\n",
       "      <th></th>\n",
       "      <th>DomesticTotalGross</th>\n",
       "      <th>RunTime</th>\n",
       "      <th>ProductionBudget</th>\n",
       "      <th>InRelease</th>\n",
       "      <th>Nominations</th>\n",
       "      <th>Wins</th>\n",
       "      <th>IntDayOfTheYear</th>\n",
       "      <th>IntMonthOfTheYear</th>\n",
       "      <th>DayOfTheYear^2</th>\n",
       "      <th>OpeningGross</th>\n",
       "      <th>OpeningRank</th>\n",
       "      <th>OpeningRatio</th>\n",
       "      <th>GenreMap_Comedy</th>\n",
       "      <th>shiftLogNoms</th>\n",
       "      <th>logInRelease</th>\n",
       "      <th>logOpeningGross</th>\n",
       "      <th>logOpeningRank</th>\n",
       "      <th>logDomesticTotalGross</th>\n",
       "      <th>logProductionBudget</th>\n",
       "    </tr>\n",
       "  </thead>\n",
       "  <tbody>\n",
       "    <tr>\n",
       "      <th>count</th>\n",
       "      <td>1.201000e+03</td>\n",
       "      <td>1201.000000</td>\n",
       "      <td>1.201000e+03</td>\n",
       "      <td>1201.000000</td>\n",
       "      <td>1201.000000</td>\n",
       "      <td>1201.000000</td>\n",
       "      <td>1201.000000</td>\n",
       "      <td>1201.000000</td>\n",
       "      <td>1201.000000</td>\n",
       "      <td>1.201000e+03</td>\n",
       "      <td>1201.000000</td>\n",
       "      <td>1201.000000</td>\n",
       "      <td>1201.000000</td>\n",
       "      <td>1201.000000</td>\n",
       "      <td>1201.000000</td>\n",
       "      <td>1201.000000</td>\n",
       "      <td>1201.000000</td>\n",
       "      <td>1201.000000</td>\n",
       "      <td>1201.000000</td>\n",
       "    </tr>\n",
       "    <tr>\n",
       "      <th>mean</th>\n",
       "      <td>8.954208e+07</td>\n",
       "      <td>110.601166</td>\n",
       "      <td>6.491132e+07</td>\n",
       "      <td>98.819317</td>\n",
       "      <td>0.462948</td>\n",
       "      <td>0.108243</td>\n",
       "      <td>193.304746</td>\n",
       "      <td>6.849292</td>\n",
       "      <td>47836.631973</td>\n",
       "      <td>2.778582e+07</td>\n",
       "      <td>2.915903</td>\n",
       "      <td>34.039145</td>\n",
       "      <td>0.233972</td>\n",
       "      <td>0.188675</td>\n",
       "      <td>4.503684</td>\n",
       "      <td>16.773680</td>\n",
       "      <td>0.816634</td>\n",
       "      <td>17.891363</td>\n",
       "      <td>17.138348</td>\n",
       "    </tr>\n",
       "    <tr>\n",
       "      <th>std</th>\n",
       "      <td>9.167912e+07</td>\n",
       "      <td>18.714477</td>\n",
       "      <td>5.533292e+07</td>\n",
       "      <td>41.787755</td>\n",
       "      <td>1.511236</td>\n",
       "      <td>0.605481</td>\n",
       "      <td>102.365190</td>\n",
       "      <td>3.358785</td>\n",
       "      <td>39487.687442</td>\n",
       "      <td>2.817507e+07</td>\n",
       "      <td>2.133953</td>\n",
       "      <td>9.161855</td>\n",
       "      <td>0.423531</td>\n",
       "      <td>0.488067</td>\n",
       "      <td>0.434505</td>\n",
       "      <td>0.842469</td>\n",
       "      <td>0.711889</td>\n",
       "      <td>0.935678</td>\n",
       "      <td>2.948767</td>\n",
       "    </tr>\n",
       "    <tr>\n",
       "      <th>min</th>\n",
       "      <td>2.956339e+06</td>\n",
       "      <td>63.000000</td>\n",
       "      <td>1.000000e+00</td>\n",
       "      <td>21.000000</td>\n",
       "      <td>0.000000</td>\n",
       "      <td>0.000000</td>\n",
       "      <td>3.000000</td>\n",
       "      <td>1.000000</td>\n",
       "      <td>9.000000</td>\n",
       "      <td>1.355904e+06</td>\n",
       "      <td>1.000000</td>\n",
       "      <td>8.941395</td>\n",
       "      <td>0.000000</td>\n",
       "      <td>0.000000</td>\n",
       "      <td>3.044522</td>\n",
       "      <td>14.119979</td>\n",
       "      <td>0.000000</td>\n",
       "      <td>14.899462</td>\n",
       "      <td>0.000000</td>\n",
       "    </tr>\n",
       "    <tr>\n",
       "      <th>25%</th>\n",
       "      <td>3.169181e+07</td>\n",
       "      <td>97.000000</td>\n",
       "      <td>2.500000e+07</td>\n",
       "      <td>70.000000</td>\n",
       "      <td>0.000000</td>\n",
       "      <td>0.000000</td>\n",
       "      <td>104.000000</td>\n",
       "      <td>4.000000</td>\n",
       "      <td>10816.000000</td>\n",
       "      <td>1.073888e+07</td>\n",
       "      <td>1.000000</td>\n",
       "      <td>27.819700</td>\n",
       "      <td>0.000000</td>\n",
       "      <td>0.000000</td>\n",
       "      <td>4.248495</td>\n",
       "      <td>16.189382</td>\n",
       "      <td>0.000000</td>\n",
       "      <td>17.271569</td>\n",
       "      <td>17.034386</td>\n",
       "    </tr>\n",
       "    <tr>\n",
       "      <th>50%</th>\n",
       "      <td>6.002226e+07</td>\n",
       "      <td>107.000000</td>\n",
       "      <td>4.500000e+07</td>\n",
       "      <td>91.000000</td>\n",
       "      <td>0.000000</td>\n",
       "      <td>0.000000</td>\n",
       "      <td>202.000000</td>\n",
       "      <td>7.000000</td>\n",
       "      <td>40804.000000</td>\n",
       "      <td>1.862317e+07</td>\n",
       "      <td>2.000000</td>\n",
       "      <td>33.959106</td>\n",
       "      <td>0.000000</td>\n",
       "      <td>0.000000</td>\n",
       "      <td>4.510860</td>\n",
       "      <td>16.739917</td>\n",
       "      <td>0.693147</td>\n",
       "      <td>17.910226</td>\n",
       "      <td>17.622173</td>\n",
       "    </tr>\n",
       "    <tr>\n",
       "      <th>75%</th>\n",
       "      <td>1.137466e+08</td>\n",
       "      <td>121.000000</td>\n",
       "      <td>9.000000e+07</td>\n",
       "      <td>121.000000</td>\n",
       "      <td>0.000000</td>\n",
       "      <td>0.000000</td>\n",
       "      <td>281.000000</td>\n",
       "      <td>10.000000</td>\n",
       "      <td>78961.000000</td>\n",
       "      <td>3.361039e+07</td>\n",
       "      <td>4.000000</td>\n",
       "      <td>40.422509</td>\n",
       "      <td>0.000000</td>\n",
       "      <td>0.000000</td>\n",
       "      <td>4.795791</td>\n",
       "      <td>17.330346</td>\n",
       "      <td>1.386294</td>\n",
       "      <td>18.549484</td>\n",
       "      <td>18.315320</td>\n",
       "    </tr>\n",
       "    <tr>\n",
       "      <th>max</th>\n",
       "      <td>9.366622e+08</td>\n",
       "      <td>210.000000</td>\n",
       "      <td>3.000000e+08</td>\n",
       "      <td>371.000000</td>\n",
       "      <td>13.000000</td>\n",
       "      <td>11.000000</td>\n",
       "      <td>360.000000</td>\n",
       "      <td>12.000000</td>\n",
       "      <td>129600.000000</td>\n",
       "      <td>2.479667e+08</td>\n",
       "      <td>9.000000</td>\n",
       "      <td>63.333240</td>\n",
       "      <td>1.000000</td>\n",
       "      <td>2.639057</td>\n",
       "      <td>5.916202</td>\n",
       "      <td>19.328805</td>\n",
       "      <td>2.197225</td>\n",
       "      <td>20.657833</td>\n",
       "      <td>19.519293</td>\n",
       "    </tr>\n",
       "  </tbody>\n",
       "</table>\n",
       "</div>"
      ],
      "text/plain": [
       "       DomesticTotalGross      RunTime  ProductionBudget    InRelease  \\\n",
       "count        1.201000e+03  1201.000000      1.201000e+03  1201.000000   \n",
       "mean         8.954208e+07   110.601166      6.491132e+07    98.819317   \n",
       "std          9.167912e+07    18.714477      5.533292e+07    41.787755   \n",
       "min          2.956339e+06    63.000000      1.000000e+00    21.000000   \n",
       "25%          3.169181e+07    97.000000      2.500000e+07    70.000000   \n",
       "50%          6.002226e+07   107.000000      4.500000e+07    91.000000   \n",
       "75%          1.137466e+08   121.000000      9.000000e+07   121.000000   \n",
       "max          9.366622e+08   210.000000      3.000000e+08   371.000000   \n",
       "\n",
       "       Nominations         Wins  IntDayOfTheYear  IntMonthOfTheYear  \\\n",
       "count  1201.000000  1201.000000      1201.000000        1201.000000   \n",
       "mean      0.462948     0.108243       193.304746           6.849292   \n",
       "std       1.511236     0.605481       102.365190           3.358785   \n",
       "min       0.000000     0.000000         3.000000           1.000000   \n",
       "25%       0.000000     0.000000       104.000000           4.000000   \n",
       "50%       0.000000     0.000000       202.000000           7.000000   \n",
       "75%       0.000000     0.000000       281.000000          10.000000   \n",
       "max      13.000000    11.000000       360.000000          12.000000   \n",
       "\n",
       "       DayOfTheYear^2  OpeningGross  OpeningRank  OpeningRatio  \\\n",
       "count     1201.000000  1.201000e+03  1201.000000   1201.000000   \n",
       "mean     47836.631973  2.778582e+07     2.915903     34.039145   \n",
       "std      39487.687442  2.817507e+07     2.133953      9.161855   \n",
       "min          9.000000  1.355904e+06     1.000000      8.941395   \n",
       "25%      10816.000000  1.073888e+07     1.000000     27.819700   \n",
       "50%      40804.000000  1.862317e+07     2.000000     33.959106   \n",
       "75%      78961.000000  3.361039e+07     4.000000     40.422509   \n",
       "max     129600.000000  2.479667e+08     9.000000     63.333240   \n",
       "\n",
       "       GenreMap_Comedy  shiftLogNoms  logInRelease  logOpeningGross  \\\n",
       "count      1201.000000   1201.000000   1201.000000      1201.000000   \n",
       "mean          0.233972      0.188675      4.503684        16.773680   \n",
       "std           0.423531      0.488067      0.434505         0.842469   \n",
       "min           0.000000      0.000000      3.044522        14.119979   \n",
       "25%           0.000000      0.000000      4.248495        16.189382   \n",
       "50%           0.000000      0.000000      4.510860        16.739917   \n",
       "75%           0.000000      0.000000      4.795791        17.330346   \n",
       "max           1.000000      2.639057      5.916202        19.328805   \n",
       "\n",
       "       logOpeningRank  logDomesticTotalGross  logProductionBudget  \n",
       "count     1201.000000            1201.000000          1201.000000  \n",
       "mean         0.816634              17.891363            17.138348  \n",
       "std          0.711889               0.935678             2.948767  \n",
       "min          0.000000              14.899462             0.000000  \n",
       "25%          0.000000              17.271569            17.034386  \n",
       "50%          0.693147              17.910226            17.622173  \n",
       "75%          1.386294              18.549484            18.315320  \n",
       "max          2.197225              20.657833            19.519293  "
      ]
     },
     "execution_count": 61,
     "metadata": {},
     "output_type": "execute_result"
    }
   ],
   "source": [
    "df.describe()"
   ]
  },
  {
   "cell_type": "code",
   "execution_count": 62,
   "metadata": {},
   "outputs": [],
   "source": [
    "ProdBudgettweak=df[df['ProductionBudget']<200000000]"
   ]
  },
  {
   "cell_type": "code",
   "execution_count": 63,
   "metadata": {},
   "outputs": [
    {
     "name": "stderr",
     "output_type": "stream",
     "text": [
      "/anaconda3/lib/python3.6/site-packages/matplotlib/axes/_axes.py:6448: UserWarning: The 'normed' kwarg is deprecated, and has been replaced by the 'density' kwarg.\n",
      "  warnings.warn(\"The 'normed' kwarg is deprecated, and has been \"\n"
     ]
    },
    {
     "data": {
      "text/plain": [
       "<matplotlib.axes._subplots.AxesSubplot at 0x1c16701e80>"
      ]
     },
     "execution_count": 63,
     "metadata": {},
     "output_type": "execute_result"
    },
    {
     "data": {
      "image/png": "[encoded data removed]",
      "text/plain": [
       "<Figure size 432x288 with 1 Axes>"
      ]
     },
     "metadata": {},
     "output_type": "display_data"
    }
   ],
   "source": [
    "sns.distplot(ProdBudgettweak['ProductionBudget'])"
   ]
  },
  {
   "cell_type": "code",
   "execution_count": 67,
   "metadata": {},
   "outputs": [],
   "source": [
    "from sklearn.metrics import mean_squared_error\n",
    "def RMSE(actual, predicted):\n",
    "    return np.sqrt(mean_squared_error(actual,predicted))   "
   ]
  },
  {
   "cell_type": "code",
   "execution_count": 70,
   "metadata": {},
   "outputs": [
    {
     "data": {
      "text/plain": [
       "Index(['Title', 'DomesticTotalGross', 'RunTime', 'ReleaseDate', 'Director',\n",
       "       'ProductionBudget', 'InRelease', 'MpaaRating', 'Distributor', 'Genre',\n",
       "       'Nominations', 'Wins', 'IntDayOfTheYear', 'IntMonthOfTheYear',\n",
       "       'DayOfTheYear^2', 'OpeningGross', 'OpeningRank', 'OpeningRatio',\n",
       "       'GenreMap_Comedy', 'shiftLogNoms', 'logInRelease', 'logOpeningGross',\n",
       "       'logOpeningRank', 'logDomesticTotalGross', 'logProductionBudget'],\n",
       "      dtype='object')"
      ]
     },
     "execution_count": 70,
     "metadata": {},
     "output_type": "execute_result"
    }
   ],
   "source": [
    "ProdBudgettweak.columns"
   ]
  },
  {
   "cell_type": "code",
   "execution_count": 100,
   "metadata": {},
   "outputs": [],
   "source": [
    "features, target = ['DomesticTotalGross','RunTime','ProductionBudget','InRelease','IntDayOfTheYear'], 'Nominations'\n",
    "X, y = df[features], df[target].values\n",
    "X_train, X_test, y_train, y_test = train_test_split(df[features], df[target], test_size=0.3, random_state=42)"
   ]
  },
  {
   "cell_type": "code",
   "execution_count": 99,
   "metadata": {},
   "outputs": [
    {
     "name": "stdout",
     "output_type": "stream",
     "text": [
      "OLS regression score val R^2: 0.301\n",
      "OLS regression score val RMSE: 1.389 \n",
      "\n"
     ]
    }
   ],
   "source": [
    "# regular\n",
    "model2 = sm.OLS(y_train.astype(float),X_train.astype(float))\n",
    "results = model2.fit()\n",
    "\n",
    "#results.summary()\n",
    "\n",
    "lm = LinearRegression()\n",
    "lm.fit(X_train, y_train)\n",
    "print('OLS regression score val R^2: %.3f' % lm.score(X_test, y_test))\n",
    "print('OLS regression score val RMSE: %.3f \\n' % RMSE(lm.predict(X_test), y_test))\n"
   ]
  },
  {
   "cell_type": "markdown",
   "metadata": {},
   "source": [
    "#### no feature transform\n",
    "OLS regression score val R^2: 0.230, OLS regression score val RMSE: 1.045\n",
    "#### with feature transform\n",
    "OLS regression score val R^2: 0.187 OLS regression score val RMSE: 1.074"
   ]
  },
  {
   "cell_type": "code",
   "execution_count": 101,
   "metadata": {},
   "outputs": [
    {
     "name": "stdout",
     "output_type": "stream",
     "text": [
      "Degree 2 polynomial regression val R^2: 0.380\n"
     ]
    }
   ],
   "source": [
    "# add in polynomials\n",
    "from sklearn.preprocessing import PolynomialFeatures\n",
    "p = PolynomialFeatures()\n",
    "\n",
    "l = LinearRegression()\n",
    "\n",
    "l.fit(p.fit_transform(X_train), y_train)\n",
    "print('Degree 2 polynomial regression val R^2: %.3f' \n",
    "      % l.score(p.transform(X_test), y_test))"
   ]
  },
  {
   "cell_type": "code",
   "execution_count": null,
   "metadata": {},
   "outputs": [],
   "source": []
  },
  {
   "cell_type": "markdown",
   "metadata": {},
   "source": []
  },
  {
   "cell_type": "code",
   "execution_count": null,
   "metadata": {},
   "outputs": [],
   "source": []
  },
  {
   "cell_type": "code",
   "execution_count": null,
   "metadata": {},
   "outputs": [],
   "source": []
  },
  {
   "cell_type": "code",
   "execution_count": null,
   "metadata": {},
   "outputs": [],
   "source": []
  },
  {
   "cell_type": "code",
   "execution_count": null,
   "metadata": {},
   "outputs": [],
   "source": []
  },
  {
   "cell_type": "code",
   "execution_count": null,
   "metadata": {},
   "outputs": [],
   "source": []
  },
  {
   "cell_type": "code",
   "execution_count": null,
   "metadata": {},
   "outputs": [],
   "source": []
  }
 ],
 "metadata": {
  "kernelspec": {
   "display_name": "Python 3",
   "language": "python",
   "name": "python3"
  },
  "language_info": {
   "codemirror_mode": {
    "name": "ipython",
    "version": 3
   },
   "file_extension": ".py",
   "mimetype": "text/x-python",
   "name": "python",
   "nbconvert_exporter": "python",
   "pygments_lexer": "ipython3",
   "version": "3.6.4"
  }
 },
 "nbformat": 4,
 "nbformat_minor": 2
}
