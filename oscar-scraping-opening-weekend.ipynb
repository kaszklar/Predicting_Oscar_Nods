{
 "cells": [
  {
   "cell_type": "code",
   "execution_count": 45,
   "metadata": {},
   "outputs": [],
   "source": [
    "import requests\n",
    "import re\n",
    "from bs4 import BeautifulSoup\n",
    "import dateutil.parser\n",
    "from pprint import pprint\n",
    "import numpy as np\n",
    "import pandas as pd\n",
    "import time\n",
    "import random"
   ]
  },
  {
   "cell_type": "code",
   "execution_count": 2,
   "metadata": {},
   "outputs": [],
   "source": [
    "def urlToSoup(url):\n",
    "    '''Take an http request and return a soup object'''\n",
    "    response = requests.get(url)\n",
    "    return BeautifulSoup(response.text, 'lxml')"
   ]
  },
  {
   "cell_type": "code",
   "execution_count": 80,
   "metadata": {},
   "outputs": [],
   "source": [
    "def money_to_int(moneystring):\n",
    "    if not moneystring:\n",
    "        return np.NaN\n",
    "    moneystring = moneystring.replace('$', '').replace(',', '')\n",
    "    return int(moneystring)\n",
    "\n",
    "def parseOpeningRank(openingrankstring):\n",
    "    openingmatch=re.search('#[0-9] [R|r]ank', openingrankstring)\n",
    "    return int(openingmatch.group(0)[1:-5])\n",
    "\n",
    "    \n",
    "def getOpeningVals(soup):\n",
    "    '''Scrape opening weekend gross & rank for a single movie and save them in a data frame'''\n",
    "    entries={}\n",
    "    #OPENING WEEKEND GROSS\n",
    "    obj_openinggross= soup.find_all(class_='mp_box_content')[1].find_all('td')[1].text.strip()\n",
    "    opening_gross= np.NaN\n",
    "    try:\n",
    "        opening_gross=money_to_int(obj_openinggross)\n",
    "        entries['OpeningGross'] = opening_gross\n",
    "    except:\n",
    "        pass\n",
    "    \n",
    "    #OPENING WEEKEND RANK\n",
    "    obj_openingrank=soup.find_all(class_=\"mp_box_content\")[1].find_all('td')[2].text\n",
    "    opening_rank=np.NaN\n",
    "    try:\n",
    "        opening_rank=parseOpeningRank(obj_openingrank)\n",
    "        entries['OpeningRank'] = opening_rank\n",
    "    except:\n",
    "        pass\n",
    "    \n",
    "    return entries\n",
    "    "
   ]
  },
  {
   "cell_type": "code",
   "execution_count": 25,
   "metadata": {},
   "outputs": [
    {
     "ename": "KeyError",
     "evalue": "1",
     "output_type": "error",
     "traceback": [
      "\u001b[0;31m---------------------------------------------------------------------------\u001b[0m",
      "\u001b[0;31mKeyError\u001b[0m                                  Traceback (most recent call last)",
      "\u001b[0;32m<ipython-input-25-53c0d100713f>\u001b[0m in \u001b[0;36m<module>\u001b[0;34m()\u001b[0m\n\u001b[1;32m      1\u001b[0m \u001b[0murl\u001b[0m\u001b[0;34m=\u001b[0m\u001b[0;34m'http://www.boxofficemojo.com/movies/?id=wonderwoman.htm'\u001b[0m\u001b[0;34m\u001b[0m\u001b[0m\n\u001b[1;32m      2\u001b[0m \u001b[0msoup\u001b[0m\u001b[0;34m=\u001b[0m\u001b[0murlToSoup\u001b[0m\u001b[0;34m(\u001b[0m\u001b[0murl\u001b[0m\u001b[0;34m)\u001b[0m\u001b[0;34m\u001b[0m\u001b[0m\n\u001b[0;32m----> 3\u001b[0;31m \u001b[0msoupify\u001b[0m\u001b[0;34m=\u001b[0m\u001b[0msoup\u001b[0m\u001b[0;34m[\u001b[0m\u001b[0;36m1\u001b[0m\u001b[0;34m]\u001b[0m\u001b[0;34m.\u001b[0m\u001b[0mfind_all\u001b[0m\u001b[0;34m(\u001b[0m\u001b[0;34m'td'\u001b[0m\u001b[0;34m)\u001b[0m\u001b[0;34m[\u001b[0m\u001b[0;36m2\u001b[0m\u001b[0;34m]\u001b[0m\u001b[0;34m.\u001b[0m\u001b[0mtext\u001b[0m\u001b[0;34m\u001b[0m\u001b[0m\n\u001b[0m\u001b[1;32m      4\u001b[0m \u001b[0mprint\u001b[0m\u001b[0;34m(\u001b[0m\u001b[0msoupify\u001b[0m\u001b[0;34m)\u001b[0m\u001b[0;34m\u001b[0m\u001b[0m\n",
      "\u001b[0;32m/anaconda3/lib/python3.6/site-packages/bs4/element.py\u001b[0m in \u001b[0;36m__getitem__\u001b[0;34m(self, key)\u001b[0m\n\u001b[1;32m   1009\u001b[0m         \"\"\"tag[key] returns the value of the 'key' attribute for the tag,\n\u001b[1;32m   1010\u001b[0m         and throws an exception if it's not there.\"\"\"\n\u001b[0;32m-> 1011\u001b[0;31m         \u001b[0;32mreturn\u001b[0m \u001b[0mself\u001b[0m\u001b[0;34m.\u001b[0m\u001b[0mattrs\u001b[0m\u001b[0;34m[\u001b[0m\u001b[0mkey\u001b[0m\u001b[0;34m]\u001b[0m\u001b[0;34m\u001b[0m\u001b[0m\n\u001b[0m\u001b[1;32m   1012\u001b[0m \u001b[0;34m\u001b[0m\u001b[0m\n\u001b[1;32m   1013\u001b[0m     \u001b[0;32mdef\u001b[0m \u001b[0m__iter__\u001b[0m\u001b[0;34m(\u001b[0m\u001b[0mself\u001b[0m\u001b[0;34m)\u001b[0m\u001b[0;34m:\u001b[0m\u001b[0;34m\u001b[0m\u001b[0m\n",
      "\u001b[0;31mKeyError\u001b[0m: 1"
     ]
    }
   ],
   "source": [
    "url='http://www.boxofficemojo.com/movies/?id=wonderwoman.htm'\n",
    "soup=urlToSoup(url)\n",
    "soupify=soup[1].find_all('td')[2].text\n"
   ]
  },
  {
   "cell_type": "code",
   "execution_count": 28,
   "metadata": {},
   "outputs": [
    {
     "name": "stdout",
     "output_type": "stream",
     "text": [
      "(#1 rank, 4,165 theaters, $24,790 average)\n"
     ]
    }
   ],
   "source": [
    "print(soup.find_all(class_=\"mp_box_content\")[1].find_all('td')[2].text)"
   ]
  },
  {
   "cell_type": "markdown",
   "metadata": {},
   "source": [
    "### Scraping\n",
    "* use a dataframe, append small chunks of the list of movies\n",
    "* save work partway through, make sure to overwrite dataframe\n",
    "* when starting over be sure to overwrite years variable"
   ]
  },
  {
   "cell_type": "code",
   "execution_count": 4,
   "metadata": {},
   "outputs": [
    {
     "data": {
      "text/plain": [
       "Index(['Unnamed: 0', 'Title', 'DomesticTotalGross', 'RunTime', 'ReleaseDate',\n",
       "       'DayOfTheYear', 'MonthOfTheYear', 'Director', 'ProductionBudget',\n",
       "       'InRelease', 'MpaaRating', 'Distributor', 'Genre', 'Nominations',\n",
       "       'Wins', 'GenreMap', 'DayOfTheYear^2'],\n",
       "      dtype='object')"
      ]
     },
     "execution_count": 4,
     "metadata": {},
     "output_type": "execute_result"
    }
   ],
   "source": [
    "df=pd.read_csv(\"oscars_dropped_cleaned2.csv\")\n",
    "df.columns"
   ]
  },
  {
   "cell_type": "code",
   "execution_count": 5,
   "metadata": {},
   "outputs": [],
   "source": [
    "df['OpeningGross']=pd.Series()\n",
    "df['OpeningRank']=pd.Series()\n",
    "df=df.drop(columns=['Title', 'DomesticTotalGross', 'RunTime', 'ReleaseDate','DayOfTheYear', 'MonthOfTheYear', 'Director',\\\n",
    "                 'ProductionBudget','InRelease', 'MpaaRating', 'Distributor', \\\n",
    "                 'Genre', 'Nominations','Wins', 'GenreMap', 'DayOfTheYear^2'])"
   ]
  },
  {
   "cell_type": "code",
   "execution_count": 6,
   "metadata": {},
   "outputs": [],
   "source": [
    "df=df.set_index('Unnamed: 0')"
   ]
  },
  {
   "cell_type": "code",
   "execution_count": 7,
   "metadata": {},
   "outputs": [
    {
     "data": {
      "text/html": [
       "<div>\n",
       "<style scoped>\n",
       "    .dataframe tbody tr th:only-of-type {\n",
       "        vertical-align: middle;\n",
       "    }\n",
       "\n",
       "    .dataframe tbody tr th {\n",
       "        vertical-align: top;\n",
       "    }\n",
       "\n",
       "    .dataframe thead th {\n",
       "        text-align: right;\n",
       "    }\n",
       "</style>\n",
       "<table border=\"1\" class=\"dataframe\">\n",
       "  <thead>\n",
       "    <tr style=\"text-align: right;\">\n",
       "      <th></th>\n",
       "      <th>OpeningGross</th>\n",
       "      <th>OpeningRank</th>\n",
       "    </tr>\n",
       "    <tr>\n",
       "      <th>Unnamed: 0</th>\n",
       "      <th></th>\n",
       "      <th></th>\n",
       "    </tr>\n",
       "  </thead>\n",
       "  <tbody>\n",
       "    <tr>\n",
       "      <th>http://www.boxofficemojo.com/movies/?id=ali.htm</th>\n",
       "      <td>NaN</td>\n",
       "      <td>NaN</td>\n",
       "    </tr>\n",
       "    <tr>\n",
       "      <th>http://www.boxofficemojo.com/movies/?id=amelie.htm</th>\n",
       "      <td>NaN</td>\n",
       "      <td>NaN</td>\n",
       "    </tr>\n",
       "    <tr>\n",
       "      <th>http://www.boxofficemojo.com/movies/?id=americassweethearts.htm</th>\n",
       "      <td>NaN</td>\n",
       "      <td>NaN</td>\n",
       "    </tr>\n",
       "    <tr>\n",
       "      <th>http://www.boxofficemojo.com/movies/?id=anygivensunday.htm</th>\n",
       "      <td>NaN</td>\n",
       "      <td>NaN</td>\n",
       "    </tr>\n",
       "    <tr>\n",
       "      <th>http://www.boxofficemojo.com/movies/?id=babyboy.htm</th>\n",
       "      <td>NaN</td>\n",
       "      <td>NaN</td>\n",
       "    </tr>\n",
       "  </tbody>\n",
       "</table>\n",
       "</div>"
      ],
      "text/plain": [
       "                                                    OpeningGross  OpeningRank\n",
       "Unnamed: 0                                                                   \n",
       "http://www.boxofficemojo.com/movies/?id=ali.htm              NaN          NaN\n",
       "http://www.boxofficemojo.com/movies/?id=amelie.htm           NaN          NaN\n",
       "http://www.boxofficemojo.com/movies/?id=america...           NaN          NaN\n",
       "http://www.boxofficemojo.com/movies/?id=anygive...           NaN          NaN\n",
       "http://www.boxofficemojo.com/movies/?id=babyboy...           NaN          NaN"
      ]
     },
     "execution_count": 7,
     "metadata": {},
     "output_type": "execute_result"
    }
   ],
   "source": [
    "df.head()"
   ]
  },
  {
   "cell_type": "code",
   "execution_count": 51,
   "metadata": {},
   "outputs": [],
   "source": [
    "smaller_df=df.iloc[0:50,:]"
   ]
  },
  {
   "cell_type": "code",
   "execution_count": 85,
   "metadata": {},
   "outputs": [],
   "source": [
    "def parseLinks(start, end):\n",
    "    '''Go through the links in the \"alllinks\" list\n",
    "    in the range specified by \"start\" and \"end\", and\n",
    "    scrape the data for each movie.\n",
    "    Returns dataframe of all movies parsed'''\n",
    "    movies={}\n",
    "    for i in range(start,end):\n",
    "        time.sleep(.5+2*random.random())\n",
    "        link=df.index[i]\n",
    "        soup=urlToSoup(df.index[i])\n",
    "        movies[link]=getOpeningVals(soup)\n",
    "        #print(df.loc[[smaller_df.index[i],['OpeningGross']]])\n",
    "        #smaller_df[smaller_df.loc[i,'OpeningRank']=values[1]\n",
    "    return(pd.DataFrame.from_dict(movies, orient=\"index\"))"
   ]
  },
  {
   "cell_type": "code",
   "execution_count": 91,
   "metadata": {},
   "outputs": [],
   "source": [
    "data=None #for use when starting the whole process over"
   ]
  },
  {
   "cell_type": "code",
   "execution_count": 92,
   "metadata": {},
   "outputs": [],
   "source": [
    "data=parseLinks(0,500)"
   ]
  },
  {
   "cell_type": "code",
   "execution_count": 93,
   "metadata": {},
   "outputs": [],
   "source": [
    "data=data.append(parseLinks(500,1001))"
   ]
  },
  {
   "cell_type": "code",
   "execution_count": 94,
   "metadata": {},
   "outputs": [],
   "source": [
    "data=data.append(parseLinks(1001, len(df.index)))"
   ]
  },
  {
   "cell_type": "code",
   "execution_count": 95,
   "metadata": {},
   "outputs": [],
   "source": [
    "data.to_csv(\"cleaned-1497-openingweekend.csv\")        "
   ]
  },
  {
   "cell_type": "code",
   "execution_count": 97,
   "metadata": {},
   "outputs": [
    {
     "data": {
      "text/plain": [
       "OpeningGross      0\n",
       "OpeningRank     161\n",
       "dtype: int64"
      ]
     },
     "execution_count": 97,
     "metadata": {},
     "output_type": "execute_result"
    }
   ],
   "source": [
    "data.isnull().sum()"
   ]
  },
  {
   "cell_type": "markdown",
   "metadata": {},
   "source": [
    "* Concatenate all of the csv files into one larger dataframe"
   ]
  },
  {
   "cell_type": "code",
   "execution_count": 323,
   "metadata": {},
   "outputs": [],
   "source": [
    "df1=pd.read_csv(\"1980-2017_0001-4000.csv\")\n",
    "df2=pd.read_csv(\"1980-2017_4001-end.csv\")"
   ]
  },
  {
   "cell_type": "code",
   "execution_count": 324,
   "metadata": {},
   "outputs": [],
   "source": [
    "import pickle"
   ]
  },
  {
   "cell_type": "code",
   "execution_count": 325,
   "metadata": {},
   "outputs": [],
   "source": [
    "df1.append(df2)\n",
    "with open('movies_1980-2017.pkl', 'wb') as picklefile:\n",
    "    pickle.dump(data, picklefile)"
   ]
  },
  {
   "cell_type": "code",
   "execution_count": 326,
   "metadata": {},
   "outputs": [
    {
     "name": "stdout",
     "output_type": "stream",
     "text": [
      "1980-2017_0001-4000.csv\r\n",
      "1980-2017_4001-end.csv\r\n",
      "2013_movies.csv\r\n",
      "Untitled.ipynb\r\n",
      "challenge_set_03_katie.ipynb\r\n",
      "movies_150-2017.pkl\r\n",
      "oscar-scraping.ipynb\r\n",
      "\u001b[34moscars\u001b[m\u001b[m\r\n",
      "oscars_noms_scraping.ipynb\r\n",
      "pairprobJuly11.ipynb\r\n",
      "web_scraping_beautifulsoup_kaszklar.ipynb\r\n",
      "web_scraping_selenium-kaszklar.ipynb\r\n"
     ]
    }
   ],
   "source": [
    "!ls"
   ]
  },
  {
   "cell_type": "code",
   "execution_count": null,
   "metadata": {},
   "outputs": [],
   "source": []
  }
 ],
 "metadata": {
  "kernelspec": {
   "display_name": "Python 3",
   "language": "python",
   "name": "python3"
  },
  "language_info": {
   "codemirror_mode": {
    "name": "ipython",
    "version": 3
   },
   "file_extension": ".py",
   "mimetype": "text/x-python",
   "name": "python",
   "nbconvert_exporter": "python",
   "pygments_lexer": "ipython3",
   "version": "3.6.4"
  }
 },
 "nbformat": 4,
 "nbformat_minor": 2
}
